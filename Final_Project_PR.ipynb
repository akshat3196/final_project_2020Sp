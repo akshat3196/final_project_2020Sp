{
  "nbformat": 4,
  "nbformat_minor": 0,
  "metadata": {
    "colab": {
      "name": "Final_Project_PR.ipynb",
      "provenance": [],
      "collapsed_sections": [],
      "authorship_tag": "ABX9TyPe0JtpI66gzCc6tjudpZek",
      "include_colab_link": true
    },
    "kernelspec": {
      "name": "python3",
      "display_name": "Python 3"
    }
  },
  "cells": [
    {
      "cell_type": "markdown",
      "metadata": {
        "id": "view-in-github",
        "colab_type": "text"
      },
      "source": [
        "<a href=\"https://colab.research.google.com/github/akshat3196/final_project_2020Sp/blob/master/Final_Project_PR.ipynb\" target=\"_parent\"><img src=\"https://colab.research.google.com/assets/colab-badge.svg\" alt=\"Open In Colab\"/></a>"
      ]
    },
    {
      "cell_type": "markdown",
      "metadata": {
        "id": "vwgEuV6qKk6R",
        "colab_type": "text"
      },
      "source": [
        "# Final Project IS 590_PR_Spring"
      ]
    },
    {
      "cell_type": "markdown",
      "metadata": {
        "id": "P4tui-8HKvDA",
        "colab_type": "text"
      },
      "source": [
        "### *Data Source and Copyrights*\n",
        "\n",
        "Source: UCI Machine Learning Repository\n",
        "\n",
        "Link: https://archive.ics.uci.edu/ml/datasets/Drug+consumption+%28quantified%29\n",
        "\n",
        "Copyrights: Data was donated to the UCI repository on 17-10-2016 and can be used for academic purposes."
      ]
    },
    {
      "cell_type": "markdown",
      "metadata": {
        "id": "3WHTg10RLJo0",
        "colab_type": "text"
      },
      "source": [
        "### *Data Description*\n",
        "Database contains records for 1885 respondents. Each respondent contains some attributes like level of education, age, gender, country of residence and ethnicity. All input attributes are originally categorical and are quantified. After quantification values of all input features can be considered as real-valued. In addition, participants were questioned concerning their use of 18 legal and illegal drugs like alcohol cannabis, chocolate, cocaine, caffeine, LSD etc. For each drug they have to select one of the answers: never used the drug, used it over a decade ago, or in the last decade, year, month, week, or day."
      ]
    },
    {
      "cell_type": "markdown",
      "metadata": {
        "id": "iKCFFbBOav-T",
        "colab_type": "text"
      },
      "source": [
        "## Hypothesis Testing\n",
        "1. The average age of people drinking alcohol is less in the United Kingdom than in the United States.\n",
        "\n",
        "2. Do people using Cannabis result in using hard drugs like Cocaine, LSD, Ecstasy. Can we conclude in general that Cannabis a gateway drug to other drugs?\n",
        "\n",
        "3.  Do men consume more nicotine than women?"
      ]
    },
    {
      "cell_type": "code",
      "metadata": {
        "id": "B6SXosCd7q-w",
        "colab_type": "code",
        "outputId": "604c1c66-da28-4075-b753-702697a8ffa0",
        "colab": {
          "base_uri": "https://localhost:8080/",
          "height": 72
        }
      },
      "source": [
        "#importing necessary libraries\n",
        "import numpy as np\n",
        "import pandas as pd\n",
        "import matplotlib.pyplot as plt\n",
        "import seaborn as sns"
      ],
      "execution_count": 1,
      "outputs": [
        {
          "output_type": "stream",
          "text": [
            "/usr/local/lib/python3.6/dist-packages/statsmodels/tools/_testing.py:19: FutureWarning: pandas.util.testing is deprecated. Use the functions in the public API at pandas.testing instead.\n",
            "  import pandas.util.testing as tm\n"
          ],
          "name": "stderr"
        }
      ]
    },
    {
      "cell_type": "code",
      "metadata": {
        "id": "W_HtkUbO8Hpc",
        "colab_type": "code",
        "colab": {}
      },
      "source": [
        " from google.colab import files"
      ],
      "execution_count": 0,
      "outputs": []
    },
    {
      "cell_type": "code",
      "metadata": {
        "id": "L0kGjrH3AF0S",
        "colab_type": "code",
        "outputId": "ba284368-a940-4a52-c9fa-7791bf668be5",
        "colab": {
          "resources": {
            "http://localhost:8080/nbextensions/google.colab/files.js": {
              "data": "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",
              "ok": true,
              "headers": [
                [
                  "content-type",
                  "application/javascript"
                ]
              ],
              "status": 200,
              "status_text": ""
            }
          },
          "base_uri": "https://localhost:8080/",
          "height": 75
        }
      },
      "source": [
        "uploaded = files.upload()"
      ],
      "execution_count": 3,
      "outputs": [
        {
          "output_type": "display_data",
          "data": {
            "text/html": [
              "\n",
              "     <input type=\"file\" id=\"files-06838ee0-930c-485e-ba88-8ac53d300800\" name=\"files[]\" multiple disabled />\n",
              "     <output id=\"result-06838ee0-930c-485e-ba88-8ac53d300800\">\n",
              "      Upload widget is only available when the cell has been executed in the\n",
              "      current browser session. Please rerun this cell to enable.\n",
              "      </output>\n",
              "      <script src=\"/nbextensions/google.colab/files.js\"></script> "
            ],
            "text/plain": [
              "<IPython.core.display.HTML object>"
            ]
          },
          "metadata": {
            "tags": []
          }
        },
        {
          "output_type": "stream",
          "text": [
            "Saving drug_consumption.data to drug_consumption.data\n"
          ],
          "name": "stdout"
        }
      ]
    },
    {
      "cell_type": "code",
      "metadata": {
        "id": "nQtTmhRm8nla",
        "colab_type": "code",
        "colab": {}
      },
      "source": [
        "#importing data file\n",
        "df_raw = pd.read_csv('drug_consumption.data',header = None)"
      ],
      "execution_count": 0,
      "outputs": []
    },
    {
      "cell_type": "code",
      "metadata": {
        "id": "B3PDs9oPD3lO",
        "colab_type": "code",
        "outputId": "71a16d54-230c-4964-e8fc-bcde76c052b2",
        "colab": {
          "base_uri": "https://localhost:8080/",
          "height": 34
        }
      },
      "source": [
        "#Data Dimensionality\n",
        "df_raw.shape"
      ],
      "execution_count": 0,
      "outputs": [
        {
          "output_type": "execute_result",
          "data": {
            "text/plain": [
              "(1885, 32)"
            ]
          },
          "metadata": {
            "tags": []
          },
          "execution_count": 6
        }
      ]
    },
    {
      "cell_type": "markdown",
      "metadata": {
        "id": "zxg2xJT8GCsd",
        "colab_type": "text"
      },
      "source": [
        "It was mentioned in the data description that the study took responses from 1886 participants, and we can verify that by looking at the shape of dataframe. It has 1885 rows, as expected."
      ]
    },
    {
      "cell_type": "code",
      "metadata": {
        "id": "r1G8kHMHDAV3",
        "colab_type": "code",
        "outputId": "6ed580af-547f-4c8e-cc26-739b52f357bd",
        "colab": {
          "base_uri": "https://localhost:8080/",
          "height": 702
        }
      },
      "source": [
        "#Checking for null values in the data and observing column data types\n",
        "df_raw.info()"
      ],
      "execution_count": 0,
      "outputs": [
        {
          "output_type": "stream",
          "text": [
            "<class 'pandas.core.frame.DataFrame'>\n",
            "RangeIndex: 1885 entries, 0 to 1884\n",
            "Data columns (total 32 columns):\n",
            " #   Column  Non-Null Count  Dtype  \n",
            "---  ------  --------------  -----  \n",
            " 0   0       1885 non-null   int64  \n",
            " 1   1       1885 non-null   float64\n",
            " 2   2       1885 non-null   float64\n",
            " 3   3       1885 non-null   float64\n",
            " 4   4       1885 non-null   float64\n",
            " 5   5       1885 non-null   float64\n",
            " 6   6       1885 non-null   float64\n",
            " 7   7       1885 non-null   float64\n",
            " 8   8       1885 non-null   float64\n",
            " 9   9       1885 non-null   float64\n",
            " 10  10      1885 non-null   float64\n",
            " 11  11      1885 non-null   float64\n",
            " 12  12      1885 non-null   float64\n",
            " 13  13      1885 non-null   object \n",
            " 14  14      1885 non-null   object \n",
            " 15  15      1885 non-null   object \n",
            " 16  16      1885 non-null   object \n",
            " 17  17      1885 non-null   object \n",
            " 18  18      1885 non-null   object \n",
            " 19  19      1885 non-null   object \n",
            " 20  20      1885 non-null   object \n",
            " 21  21      1885 non-null   object \n",
            " 22  22      1885 non-null   object \n",
            " 23  23      1885 non-null   object \n",
            " 24  24      1885 non-null   object \n",
            " 25  25      1885 non-null   object \n",
            " 26  26      1885 non-null   object \n",
            " 27  27      1885 non-null   object \n",
            " 28  28      1885 non-null   object \n",
            " 29  29      1885 non-null   object \n",
            " 30  30      1885 non-null   object \n",
            " 31  31      1885 non-null   object \n",
            "dtypes: float64(12), int64(1), object(19)\n",
            "memory usage: 471.4+ KB\n"
          ],
          "name": "stdout"
        }
      ]
    },
    {
      "cell_type": "markdown",
      "metadata": {
        "id": "SH9iOjlyFB3h",
        "colab_type": "text"
      },
      "source": [
        "As we can see the non-null count for every column is same the row count of the dataframe so we can conclude that there is no null values in the data. As a result we need not handle the null values."
      ]
    },
    {
      "cell_type": "code",
      "metadata": {
        "id": "AEOGWvXpEOot",
        "colab_type": "code",
        "colab": {}
      },
      "source": [
        "#I would be taking x number of columns for my final project\n",
        "df = df_raw[[1,2,3,4,5,13,17,18,19,20,21,23,26,28,29]]"
      ],
      "execution_count": 0,
      "outputs": []
    },
    {
      "cell_type": "markdown",
      "metadata": {
        "id": "CHfh6SJ5FrHf",
        "colab_type": "text"
      },
      "source": [
        "As proposed on Moodle, I would be using only a subset of attributes provided in the original data. I would be using some attributes of participants of the study, which will be Age, Gender, Education Level, Country,and Ethnicity. I would be taking some of the common drugs which are used like Alcohol, Caffeine, Cannabis, Cocaine etc"
      ]
    },
    {
      "cell_type": "code",
      "metadata": {
        "id": "_fMQtRaDKND6",
        "colab_type": "code",
        "colab": {}
      },
      "source": [
        "#Making an header list as DataFrame has no headers\n",
        "header_list = ['Age','Gender','Education','Country','Ethnicity','Alcohol','Caffeine','Cannabis','Chocolate','Cocaine','Crack','Heroin','LSD','Mushroom','Nicotine']"
      ],
      "execution_count": 0,
      "outputs": []
    },
    {
      "cell_type": "code",
      "metadata": {
        "id": "BcOH_QHPHFOV",
        "colab_type": "code",
        "colab": {}
      },
      "source": [
        "#Assigning header names\n",
        "df.columns = header_list"
      ],
      "execution_count": 0,
      "outputs": []
    },
    {
      "cell_type": "code",
      "metadata": {
        "id": "r-GLEiz9MPlu",
        "colab_type": "code",
        "outputId": "bb63ac72-7349-481e-9bc3-33b34086e355",
        "colab": {
          "base_uri": "https://localhost:8080/",
          "height": 87
        }
      },
      "source": [
        "df.columns"
      ],
      "execution_count": 8,
      "outputs": [
        {
          "output_type": "execute_result",
          "data": {
            "text/plain": [
              "Index(['Age', 'Gender', 'Education', 'Country', 'Ethnicity', 'Alcohol',\n",
              "       'Caffeine', 'Cannabis', 'Chocolate', 'Cocaine', 'Crack', 'Heroin',\n",
              "       'LSD', 'Mushroom', 'Nicotine'],\n",
              "      dtype='object')"
            ]
          },
          "metadata": {
            "tags": []
          },
          "execution_count": 8
        }
      ]
    },
    {
      "cell_type": "code",
      "metadata": {
        "id": "M35-oHrSMuCT",
        "colab_type": "code",
        "outputId": "7b2bc8ba-39fd-4929-b0e4-27aa23395613",
        "colab": {
          "base_uri": "https://localhost:8080/",
          "height": 298
        }
      },
      "source": [
        "#Taking a look on data types of the columns\n",
        "df.dtypes"
      ],
      "execution_count": 0,
      "outputs": [
        {
          "output_type": "execute_result",
          "data": {
            "text/plain": [
              "Age          float64\n",
              "Gender       float64\n",
              "Education    float64\n",
              "Country      float64\n",
              "Ethnicity    float64\n",
              "Alcohol       object\n",
              "Caffeine      object\n",
              "Cannabis      object\n",
              "Chocolate     object\n",
              "Cocaine       object\n",
              "Crack         object\n",
              "Heroin        object\n",
              "LSD           object\n",
              "Mushroom      object\n",
              "Nicotine      object\n",
              "dtype: object"
            ]
          },
          "metadata": {
            "tags": []
          },
          "execution_count": 168
        }
      ]
    },
    {
      "cell_type": "code",
      "metadata": {
        "id": "MenvQaEXHeCb",
        "colab_type": "code",
        "outputId": "b50ae8bb-684a-4c37-86cf-cbf09ddd0779",
        "colab": {
          "base_uri": "https://localhost:8080/",
          "height": 430
        }
      },
      "source": [
        "df"
      ],
      "execution_count": 0,
      "outputs": [
        {
          "output_type": "execute_result",
          "data": {
            "text/html": [
              "<div>\n",
              "<style scoped>\n",
              "    .dataframe tbody tr th:only-of-type {\n",
              "        vertical-align: middle;\n",
              "    }\n",
              "\n",
              "    .dataframe tbody tr th {\n",
              "        vertical-align: top;\n",
              "    }\n",
              "\n",
              "    .dataframe thead th {\n",
              "        text-align: right;\n",
              "    }\n",
              "</style>\n",
              "<table border=\"1\" class=\"dataframe\">\n",
              "  <thead>\n",
              "    <tr style=\"text-align: right;\">\n",
              "      <th></th>\n",
              "      <th>Age</th>\n",
              "      <th>Gender</th>\n",
              "      <th>Education</th>\n",
              "      <th>Country</th>\n",
              "      <th>Ethnicity</th>\n",
              "      <th>Alcohol</th>\n",
              "      <th>Caffeine</th>\n",
              "      <th>Cannabis</th>\n",
              "      <th>Chocolate</th>\n",
              "      <th>Cocaine</th>\n",
              "      <th>Crack</th>\n",
              "      <th>Heroin</th>\n",
              "      <th>LSD</th>\n",
              "      <th>Mushroom</th>\n",
              "      <th>Nicotine</th>\n",
              "    </tr>\n",
              "  </thead>\n",
              "  <tbody>\n",
              "    <tr>\n",
              "      <th>0</th>\n",
              "      <td>0.49788</td>\n",
              "      <td>0.48246</td>\n",
              "      <td>-0.05921</td>\n",
              "      <td>0.96082</td>\n",
              "      <td>0.12600</td>\n",
              "      <td>CL5</td>\n",
              "      <td>CL6</td>\n",
              "      <td>CL0</td>\n",
              "      <td>CL5</td>\n",
              "      <td>CL0</td>\n",
              "      <td>CL0</td>\n",
              "      <td>CL0</td>\n",
              "      <td>CL0</td>\n",
              "      <td>CL0</td>\n",
              "      <td>CL2</td>\n",
              "    </tr>\n",
              "    <tr>\n",
              "      <th>1</th>\n",
              "      <td>-0.07854</td>\n",
              "      <td>-0.48246</td>\n",
              "      <td>1.98437</td>\n",
              "      <td>0.96082</td>\n",
              "      <td>-0.31685</td>\n",
              "      <td>CL5</td>\n",
              "      <td>CL6</td>\n",
              "      <td>CL4</td>\n",
              "      <td>CL6</td>\n",
              "      <td>CL3</td>\n",
              "      <td>CL0</td>\n",
              "      <td>CL0</td>\n",
              "      <td>CL2</td>\n",
              "      <td>CL0</td>\n",
              "      <td>CL4</td>\n",
              "    </tr>\n",
              "    <tr>\n",
              "      <th>2</th>\n",
              "      <td>0.49788</td>\n",
              "      <td>-0.48246</td>\n",
              "      <td>-0.05921</td>\n",
              "      <td>0.96082</td>\n",
              "      <td>-0.31685</td>\n",
              "      <td>CL6</td>\n",
              "      <td>CL6</td>\n",
              "      <td>CL3</td>\n",
              "      <td>CL4</td>\n",
              "      <td>CL0</td>\n",
              "      <td>CL0</td>\n",
              "      <td>CL0</td>\n",
              "      <td>CL0</td>\n",
              "      <td>CL1</td>\n",
              "      <td>CL0</td>\n",
              "    </tr>\n",
              "    <tr>\n",
              "      <th>3</th>\n",
              "      <td>-0.95197</td>\n",
              "      <td>0.48246</td>\n",
              "      <td>1.16365</td>\n",
              "      <td>0.96082</td>\n",
              "      <td>-0.31685</td>\n",
              "      <td>CL4</td>\n",
              "      <td>CL5</td>\n",
              "      <td>CL2</td>\n",
              "      <td>CL4</td>\n",
              "      <td>CL2</td>\n",
              "      <td>CL0</td>\n",
              "      <td>CL0</td>\n",
              "      <td>CL0</td>\n",
              "      <td>CL0</td>\n",
              "      <td>CL2</td>\n",
              "    </tr>\n",
              "    <tr>\n",
              "      <th>4</th>\n",
              "      <td>0.49788</td>\n",
              "      <td>0.48246</td>\n",
              "      <td>1.98437</td>\n",
              "      <td>0.96082</td>\n",
              "      <td>-0.31685</td>\n",
              "      <td>CL4</td>\n",
              "      <td>CL6</td>\n",
              "      <td>CL3</td>\n",
              "      <td>CL6</td>\n",
              "      <td>CL0</td>\n",
              "      <td>CL0</td>\n",
              "      <td>CL0</td>\n",
              "      <td>CL0</td>\n",
              "      <td>CL2</td>\n",
              "      <td>CL2</td>\n",
              "    </tr>\n",
              "    <tr>\n",
              "      <th>...</th>\n",
              "      <td>...</td>\n",
              "      <td>...</td>\n",
              "      <td>...</td>\n",
              "      <td>...</td>\n",
              "      <td>...</td>\n",
              "      <td>...</td>\n",
              "      <td>...</td>\n",
              "      <td>...</td>\n",
              "      <td>...</td>\n",
              "      <td>...</td>\n",
              "      <td>...</td>\n",
              "      <td>...</td>\n",
              "      <td>...</td>\n",
              "      <td>...</td>\n",
              "      <td>...</td>\n",
              "    </tr>\n",
              "    <tr>\n",
              "      <th>1880</th>\n",
              "      <td>-0.95197</td>\n",
              "      <td>0.48246</td>\n",
              "      <td>-0.61113</td>\n",
              "      <td>-0.57009</td>\n",
              "      <td>-0.31685</td>\n",
              "      <td>CL5</td>\n",
              "      <td>CL4</td>\n",
              "      <td>CL5</td>\n",
              "      <td>CL4</td>\n",
              "      <td>CL0</td>\n",
              "      <td>CL0</td>\n",
              "      <td>CL0</td>\n",
              "      <td>CL3</td>\n",
              "      <td>CL0</td>\n",
              "      <td>CL0</td>\n",
              "    </tr>\n",
              "    <tr>\n",
              "      <th>1881</th>\n",
              "      <td>-0.95197</td>\n",
              "      <td>-0.48246</td>\n",
              "      <td>-0.61113</td>\n",
              "      <td>-0.57009</td>\n",
              "      <td>-0.31685</td>\n",
              "      <td>CL5</td>\n",
              "      <td>CL5</td>\n",
              "      <td>CL3</td>\n",
              "      <td>CL4</td>\n",
              "      <td>CL0</td>\n",
              "      <td>CL0</td>\n",
              "      <td>CL0</td>\n",
              "      <td>CL5</td>\n",
              "      <td>CL4</td>\n",
              "      <td>CL5</td>\n",
              "    </tr>\n",
              "    <tr>\n",
              "      <th>1882</th>\n",
              "      <td>-0.07854</td>\n",
              "      <td>0.48246</td>\n",
              "      <td>0.45468</td>\n",
              "      <td>-0.57009</td>\n",
              "      <td>-0.31685</td>\n",
              "      <td>CL4</td>\n",
              "      <td>CL6</td>\n",
              "      <td>CL6</td>\n",
              "      <td>CL6</td>\n",
              "      <td>CL4</td>\n",
              "      <td>CL0</td>\n",
              "      <td>CL0</td>\n",
              "      <td>CL2</td>\n",
              "      <td>CL2</td>\n",
              "      <td>CL6</td>\n",
              "    </tr>\n",
              "    <tr>\n",
              "      <th>1883</th>\n",
              "      <td>-0.95197</td>\n",
              "      <td>0.48246</td>\n",
              "      <td>-0.61113</td>\n",
              "      <td>-0.57009</td>\n",
              "      <td>-0.31685</td>\n",
              "      <td>CL5</td>\n",
              "      <td>CL6</td>\n",
              "      <td>CL6</td>\n",
              "      <td>CL5</td>\n",
              "      <td>CL0</td>\n",
              "      <td>CL0</td>\n",
              "      <td>CL0</td>\n",
              "      <td>CL3</td>\n",
              "      <td>CL3</td>\n",
              "      <td>CL4</td>\n",
              "    </tr>\n",
              "    <tr>\n",
              "      <th>1884</th>\n",
              "      <td>-0.95197</td>\n",
              "      <td>-0.48246</td>\n",
              "      <td>-0.61113</td>\n",
              "      <td>0.21128</td>\n",
              "      <td>-0.31685</td>\n",
              "      <td>CL4</td>\n",
              "      <td>CL6</td>\n",
              "      <td>CL3</td>\n",
              "      <td>CL6</td>\n",
              "      <td>CL3</td>\n",
              "      <td>CL0</td>\n",
              "      <td>CL0</td>\n",
              "      <td>CL3</td>\n",
              "      <td>CL3</td>\n",
              "      <td>CL6</td>\n",
              "    </tr>\n",
              "  </tbody>\n",
              "</table>\n",
              "<p>1885 rows × 15 columns</p>\n",
              "</div>"
            ],
            "text/plain": [
              "          Age   Gender  Education  Country  ...  Heroin  LSD Mushroom Nicotine\n",
              "0     0.49788  0.48246   -0.05921  0.96082  ...     CL0  CL0      CL0      CL2\n",
              "1    -0.07854 -0.48246    1.98437  0.96082  ...     CL0  CL2      CL0      CL4\n",
              "2     0.49788 -0.48246   -0.05921  0.96082  ...     CL0  CL0      CL1      CL0\n",
              "3    -0.95197  0.48246    1.16365  0.96082  ...     CL0  CL0      CL0      CL2\n",
              "4     0.49788  0.48246    1.98437  0.96082  ...     CL0  CL0      CL2      CL2\n",
              "...       ...      ...        ...      ...  ...     ...  ...      ...      ...\n",
              "1880 -0.95197  0.48246   -0.61113 -0.57009  ...     CL0  CL3      CL0      CL0\n",
              "1881 -0.95197 -0.48246   -0.61113 -0.57009  ...     CL0  CL5      CL4      CL5\n",
              "1882 -0.07854  0.48246    0.45468 -0.57009  ...     CL0  CL2      CL2      CL6\n",
              "1883 -0.95197  0.48246   -0.61113 -0.57009  ...     CL0  CL3      CL3      CL4\n",
              "1884 -0.95197 -0.48246   -0.61113  0.21128  ...     CL0  CL3      CL3      CL6\n",
              "\n",
              "[1885 rows x 15 columns]"
            ]
          },
          "metadata": {
            "tags": []
          },
          "execution_count": 135
        }
      ]
    },
    {
      "cell_type": "markdown",
      "metadata": {
        "id": "1CUDrSGRHuOt",
        "colab_type": "text"
      },
      "source": [
        "This is the final dataframe, which I would be working on. But the values of columns in this dataframe doesn't make much sense. This is because we have to replace these values by categories which is mentioned in the data source."
      ]
    },
    {
      "cell_type": "code",
      "metadata": {
        "id": "U4t3W6fq5O7a",
        "colab_type": "code",
        "colab": {}
      },
      "source": [
        "\n",
        "pd.options.mode.chained_assignment = None\n",
        "df['Age'] = df['Age'].astype(str)\n",
        "df['Gender'] = df['Gender'].astype(str)\n",
        "df['Ethnicity'] = df['Ethnicity'].astype(str)\n",
        "df['Education'] = df['Education'].astype(str)\n",
        "df['Country'] = df['Country'].astype(str)"
      ],
      "execution_count": 0,
      "outputs": []
    },
    {
      "cell_type": "markdown",
      "metadata": {
        "id": "x-b4ogWqIcNp",
        "colab_type": "text"
      },
      "source": [
        "We earlier saw the data types of all the columns, here we would convert the columns of float datatype into string datatype"
      ]
    },
    {
      "cell_type": "code",
      "metadata": {
        "id": "Yj4SHgNXwXRA",
        "colab_type": "code",
        "colab": {}
      },
      "source": [
        "#Defining dictionaries which will be used in replace function\n",
        "age_dict = {'-0.9519700000000001':'18-24','-0.07854':'25-34','0.49788000000000004':'35-44','1.09449':'45-54','1.82213':'55-64','2.59171':'65+'}\n",
        "gender_dict = {'0.48246000000000006':'Female','-0.48246000000000006':'Male'}\n",
        "education_dict = {'-0.059210000000000006':'Professional Certificate/Diploma', '1.98437':'Doctrate Degree', '1.16365':\"Master's Degree\", '-1.22751':'Left school at 18',\n",
        "       '-1.7379':'Left school at 16 years', '0.45468000000000003':'University degree', '-0.6111300000000001':'Enrolled in University/College',\n",
        "       '-2.43591': 'Left school before 16 years', '-1.43719':' Left school at 17 years'}\n",
        "country_dict = {'0.9608200000000001':'UK', '0.24923':'Canada', '-0.57009':'USA', '-0.28519':'Other',\n",
        "       '-0.09765':'Australia', '0.21128000000000002':'Republic of Ireland', '-0.46841000000000005':'New Zealand'}\n",
        "ethnicity_dict = {'0.126':'Mixed-White/Asian', '-0.31685':'White', '0.1144':'Other', '-0.22166':'Mixed-White/Black', '-0.50212':'Asian','-1.1070200000000001':'Black', '1.90725':' Mixed-Black/Asian'}\n",
        "drug_dict = {'CL0':'Never Used', 'CL2':'Used in Last Decade', 'CL1':'Used over a Decade Ago', 'CL3':'Used in Last Year', 'CL4':'Used in Last Month', 'CL5':'Used in Last Week', 'CL6':'Used in Last Day'}"
      ],
      "execution_count": 0,
      "outputs": []
    },
    {
      "cell_type": "code",
      "metadata": {
        "id": "rxTm72MtxEvZ",
        "colab_type": "code",
        "colab": {}
      },
      "source": [
        "#Replacing the orignal values of the dataframe by values in the dictionaries\n",
        "pd.options.mode.chained_assignment = None\n",
        "df['Age'].replace(age_dict,inplace = True)\n",
        "df['Gender'].replace( gender_dict,inplace = True)\n",
        "df['Country'].replace( country_dict,inplace = True)\n",
        "df['Ethnicity'].replace( ethnicity_dict,inplace = True)\n",
        "df['Education'].replace( education_dict,inplace = True)\n",
        "df['Alcohol'].replace( drug_dict,inplace = True)\n",
        "df['Caffeine'].replace( drug_dict,inplace = True)\n",
        "df['Cannabis'].replace( drug_dict,inplace = True)\n",
        "df['Chocolate'].replace( drug_dict,inplace = True)\n",
        "df['Cocaine'].replace( drug_dict,inplace = True)\n",
        "df['Crack'].replace( drug_dict,inplace = True)\n",
        "df['Heroin'].replace( drug_dict,inplace = True)\n",
        "df['LSD'].replace( drug_dict,inplace = True)\n",
        "df['Mushroom'].replace( drug_dict,inplace = True)\n",
        "df['Nicotine'].replace( drug_dict,inplace = True)"
      ],
      "execution_count": 0,
      "outputs": []
    },
    {
      "cell_type": "code",
      "metadata": {
        "id": "QEk5Ti13I4E-",
        "colab_type": "code",
        "outputId": "4945abe6-0038-40cc-991a-2d5e213cf8fb",
        "colab": {
          "base_uri": "https://localhost:8080/",
          "height": 786
        }
      },
      "source": [
        "df"
      ],
      "execution_count": 0,
      "outputs": [
        {
          "output_type": "execute_result",
          "data": {
            "text/html": [
              "<div>\n",
              "<style scoped>\n",
              "    .dataframe tbody tr th:only-of-type {\n",
              "        vertical-align: middle;\n",
              "    }\n",
              "\n",
              "    .dataframe tbody tr th {\n",
              "        vertical-align: top;\n",
              "    }\n",
              "\n",
              "    .dataframe thead th {\n",
              "        text-align: right;\n",
              "    }\n",
              "</style>\n",
              "<table border=\"1\" class=\"dataframe\">\n",
              "  <thead>\n",
              "    <tr style=\"text-align: right;\">\n",
              "      <th></th>\n",
              "      <th>Age</th>\n",
              "      <th>Gender</th>\n",
              "      <th>Education</th>\n",
              "      <th>Country</th>\n",
              "      <th>Ethnicity</th>\n",
              "      <th>Alcohol</th>\n",
              "      <th>Caffeine</th>\n",
              "      <th>Cannabis</th>\n",
              "      <th>Chocolate</th>\n",
              "      <th>Cocaine</th>\n",
              "      <th>Crack</th>\n",
              "      <th>Heroin</th>\n",
              "      <th>LSD</th>\n",
              "      <th>Mushroom</th>\n",
              "      <th>Nicotine</th>\n",
              "    </tr>\n",
              "  </thead>\n",
              "  <tbody>\n",
              "    <tr>\n",
              "      <th>0</th>\n",
              "      <td>35-44</td>\n",
              "      <td>Female</td>\n",
              "      <td>Professional Certificate/Diploma</td>\n",
              "      <td>UK</td>\n",
              "      <td>Mixed-White/Asian</td>\n",
              "      <td>Used in Last Week</td>\n",
              "      <td>Used in Last Day</td>\n",
              "      <td>Never Used</td>\n",
              "      <td>Used in Last Week</td>\n",
              "      <td>Never Used</td>\n",
              "      <td>Never Used</td>\n",
              "      <td>Never Used</td>\n",
              "      <td>Never Used</td>\n",
              "      <td>Never Used</td>\n",
              "      <td>Used in Last Decade</td>\n",
              "    </tr>\n",
              "    <tr>\n",
              "      <th>1</th>\n",
              "      <td>25-34</td>\n",
              "      <td>Male</td>\n",
              "      <td>Doctrate Degree</td>\n",
              "      <td>UK</td>\n",
              "      <td>White</td>\n",
              "      <td>Used in Last Week</td>\n",
              "      <td>Used in Last Day</td>\n",
              "      <td>Used in Last Month</td>\n",
              "      <td>Used in Last Day</td>\n",
              "      <td>Used in Last Year</td>\n",
              "      <td>Never Used</td>\n",
              "      <td>Never Used</td>\n",
              "      <td>Used in Last Decade</td>\n",
              "      <td>Never Used</td>\n",
              "      <td>Used in Last Month</td>\n",
              "    </tr>\n",
              "    <tr>\n",
              "      <th>2</th>\n",
              "      <td>35-44</td>\n",
              "      <td>Male</td>\n",
              "      <td>Professional Certificate/Diploma</td>\n",
              "      <td>UK</td>\n",
              "      <td>White</td>\n",
              "      <td>Used in Last Day</td>\n",
              "      <td>Used in Last Day</td>\n",
              "      <td>Used in Last Year</td>\n",
              "      <td>Used in Last Month</td>\n",
              "      <td>Never Used</td>\n",
              "      <td>Never Used</td>\n",
              "      <td>Never Used</td>\n",
              "      <td>Never Used</td>\n",
              "      <td>Used over a Decade Ago</td>\n",
              "      <td>Never Used</td>\n",
              "    </tr>\n",
              "    <tr>\n",
              "      <th>3</th>\n",
              "      <td>18-24</td>\n",
              "      <td>Female</td>\n",
              "      <td>Master's Degree</td>\n",
              "      <td>UK</td>\n",
              "      <td>White</td>\n",
              "      <td>Used in Last Month</td>\n",
              "      <td>Used in Last Week</td>\n",
              "      <td>Used in Last Decade</td>\n",
              "      <td>Used in Last Month</td>\n",
              "      <td>Used in Last Decade</td>\n",
              "      <td>Never Used</td>\n",
              "      <td>Never Used</td>\n",
              "      <td>Never Used</td>\n",
              "      <td>Never Used</td>\n",
              "      <td>Used in Last Decade</td>\n",
              "    </tr>\n",
              "    <tr>\n",
              "      <th>4</th>\n",
              "      <td>35-44</td>\n",
              "      <td>Female</td>\n",
              "      <td>Doctrate Degree</td>\n",
              "      <td>UK</td>\n",
              "      <td>White</td>\n",
              "      <td>Used in Last Month</td>\n",
              "      <td>Used in Last Day</td>\n",
              "      <td>Used in Last Year</td>\n",
              "      <td>Used in Last Day</td>\n",
              "      <td>Never Used</td>\n",
              "      <td>Never Used</td>\n",
              "      <td>Never Used</td>\n",
              "      <td>Never Used</td>\n",
              "      <td>Used in Last Decade</td>\n",
              "      <td>Used in Last Decade</td>\n",
              "    </tr>\n",
              "    <tr>\n",
              "      <th>...</th>\n",
              "      <td>...</td>\n",
              "      <td>...</td>\n",
              "      <td>...</td>\n",
              "      <td>...</td>\n",
              "      <td>...</td>\n",
              "      <td>...</td>\n",
              "      <td>...</td>\n",
              "      <td>...</td>\n",
              "      <td>...</td>\n",
              "      <td>...</td>\n",
              "      <td>...</td>\n",
              "      <td>...</td>\n",
              "      <td>...</td>\n",
              "      <td>...</td>\n",
              "      <td>...</td>\n",
              "    </tr>\n",
              "    <tr>\n",
              "      <th>1880</th>\n",
              "      <td>18-24</td>\n",
              "      <td>Female</td>\n",
              "      <td>Enrolled in University/College</td>\n",
              "      <td>USA</td>\n",
              "      <td>White</td>\n",
              "      <td>Used in Last Week</td>\n",
              "      <td>Used in Last Month</td>\n",
              "      <td>Used in Last Week</td>\n",
              "      <td>Used in Last Month</td>\n",
              "      <td>Never Used</td>\n",
              "      <td>Never Used</td>\n",
              "      <td>Never Used</td>\n",
              "      <td>Used in Last Year</td>\n",
              "      <td>Never Used</td>\n",
              "      <td>Never Used</td>\n",
              "    </tr>\n",
              "    <tr>\n",
              "      <th>1881</th>\n",
              "      <td>18-24</td>\n",
              "      <td>Male</td>\n",
              "      <td>Enrolled in University/College</td>\n",
              "      <td>USA</td>\n",
              "      <td>White</td>\n",
              "      <td>Used in Last Week</td>\n",
              "      <td>Used in Last Week</td>\n",
              "      <td>Used in Last Year</td>\n",
              "      <td>Used in Last Month</td>\n",
              "      <td>Never Used</td>\n",
              "      <td>Never Used</td>\n",
              "      <td>Never Used</td>\n",
              "      <td>Used in Last Week</td>\n",
              "      <td>Used in Last Month</td>\n",
              "      <td>Used in Last Week</td>\n",
              "    </tr>\n",
              "    <tr>\n",
              "      <th>1882</th>\n",
              "      <td>25-34</td>\n",
              "      <td>Female</td>\n",
              "      <td>University degree</td>\n",
              "      <td>USA</td>\n",
              "      <td>White</td>\n",
              "      <td>Used in Last Month</td>\n",
              "      <td>Used in Last Day</td>\n",
              "      <td>Used in Last Day</td>\n",
              "      <td>Used in Last Day</td>\n",
              "      <td>Used in Last Month</td>\n",
              "      <td>Never Used</td>\n",
              "      <td>Never Used</td>\n",
              "      <td>Used in Last Decade</td>\n",
              "      <td>Used in Last Decade</td>\n",
              "      <td>Used in Last Day</td>\n",
              "    </tr>\n",
              "    <tr>\n",
              "      <th>1883</th>\n",
              "      <td>18-24</td>\n",
              "      <td>Female</td>\n",
              "      <td>Enrolled in University/College</td>\n",
              "      <td>USA</td>\n",
              "      <td>White</td>\n",
              "      <td>Used in Last Week</td>\n",
              "      <td>Used in Last Day</td>\n",
              "      <td>Used in Last Day</td>\n",
              "      <td>Used in Last Week</td>\n",
              "      <td>Never Used</td>\n",
              "      <td>Never Used</td>\n",
              "      <td>Never Used</td>\n",
              "      <td>Used in Last Year</td>\n",
              "      <td>Used in Last Year</td>\n",
              "      <td>Used in Last Month</td>\n",
              "    </tr>\n",
              "    <tr>\n",
              "      <th>1884</th>\n",
              "      <td>18-24</td>\n",
              "      <td>Male</td>\n",
              "      <td>Enrolled in University/College</td>\n",
              "      <td>Republic of Ireland</td>\n",
              "      <td>White</td>\n",
              "      <td>Used in Last Month</td>\n",
              "      <td>Used in Last Day</td>\n",
              "      <td>Used in Last Year</td>\n",
              "      <td>Used in Last Day</td>\n",
              "      <td>Used in Last Year</td>\n",
              "      <td>Never Used</td>\n",
              "      <td>Never Used</td>\n",
              "      <td>Used in Last Year</td>\n",
              "      <td>Used in Last Year</td>\n",
              "      <td>Used in Last Day</td>\n",
              "    </tr>\n",
              "  </tbody>\n",
              "</table>\n",
              "<p>1885 rows × 15 columns</p>\n",
              "</div>"
            ],
            "text/plain": [
              "        Age  Gender  ...                Mushroom             Nicotine\n",
              "0     35-44  Female  ...              Never Used  Used in Last Decade\n",
              "1     25-34    Male  ...              Never Used   Used in Last Month\n",
              "2     35-44    Male  ...  Used over a Decade Ago           Never Used\n",
              "3     18-24  Female  ...              Never Used  Used in Last Decade\n",
              "4     35-44  Female  ...     Used in Last Decade  Used in Last Decade\n",
              "...     ...     ...  ...                     ...                  ...\n",
              "1880  18-24  Female  ...              Never Used           Never Used\n",
              "1881  18-24    Male  ...      Used in Last Month    Used in Last Week\n",
              "1882  25-34  Female  ...     Used in Last Decade     Used in Last Day\n",
              "1883  18-24  Female  ...       Used in Last Year   Used in Last Month\n",
              "1884  18-24    Male  ...       Used in Last Year     Used in Last Day\n",
              "\n",
              "[1885 rows x 15 columns]"
            ]
          },
          "metadata": {
            "tags": []
          },
          "execution_count": 13
        }
      ]
    },
    {
      "cell_type": "code",
      "metadata": {
        "id": "ruKTfloLQvWS",
        "colab_type": "code",
        "colab": {}
      },
      "source": [
        "#Defining a function which returns value counts for dataframe column\n",
        "\n",
        "def value_percentage(column_name):\n",
        "  return df[column_name].value_counts(normalize = True)\n"
      ],
      "execution_count": 0,
      "outputs": []
    },
    {
      "cell_type": "code",
      "metadata": {
        "id": "oWMuNLLPMReI",
        "colab_type": "code",
        "colab": {}
      },
      "source": [
        "#Defining a function which returns a pie chart value counts for dataframe column\n",
        "\n",
        "def value_percentage_chart(column_name):\n",
        "  df[column_name].value_counts(normalize = True).plot.pie(figsize=(8, 8),autopct='%1.1f%%')"
      ],
      "execution_count": 0,
      "outputs": []
    },
    {
      "cell_type": "code",
      "metadata": {
        "id": "aTCeZFCGNTO5",
        "colab_type": "code",
        "outputId": "cd8f7efa-21f1-4585-9f3c-c4b7e00f9dd6",
        "colab": {
          "base_uri": "https://localhost:8080/",
          "height": 193
        }
      },
      "source": [
        "value_percentage('Education')"
      ],
      "execution_count": 0,
      "outputs": [
        {
          "output_type": "execute_result",
          "data": {
            "text/plain": [
              "no certificate or degree            0.268435\n",
              "University degree                   0.254642\n",
              "Master's Degree                     0.150133\n",
              "Professional Certificate/Diploma    0.143236\n",
              "Left school at 18                   0.053050\n",
              "Left school at 16 years             0.052520\n",
              "Doctrate Degree                     0.047215\n",
              " Left school at 17 years            0.015915\n",
              "Left school before 16 years         0.014854\n",
              "Name: Education, dtype: float64"
            ]
          },
          "metadata": {
            "tags": []
          },
          "execution_count": 117
        }
      ]
    },
    {
      "cell_type": "code",
      "metadata": {
        "id": "AUSaUDKQQkNL",
        "colab_type": "code",
        "outputId": "e0933162-89e6-4e1c-9e97-22daba7c2689",
        "colab": {
          "base_uri": "https://localhost:8080/",
          "height": 466
        }
      },
      "source": [
        "value_percentage_chart('Country')"
      ],
      "execution_count": 0,
      "outputs": [
        {
          "output_type": "display_data",
          "data": {
            "image/png": "[encoded data removed]",
            "text/plain": [
              "<Figure size 576x576 with 1 Axes>"
            ]
          },
          "metadata": {
            "tags": []
          }
        }
      ]
    },
    {
      "cell_type": "markdown",
      "metadata": {
        "id": "HF396BNuMhS-",
        "colab_type": "text"
      },
      "source": [
        "From this pie chart we can see that more than half of the respondents are form the United Kingdom which makes sense as the data was donated by the Professors working in the University of Nottingham."
      ]
    },
    {
      "cell_type": "code",
      "metadata": {
        "id": "lidgrwJ8Qppc",
        "colab_type": "code",
        "outputId": "770a2559-6ee4-4e13-cfe6-9e46138ac313",
        "colab": {
          "base_uri": "https://localhost:8080/",
          "height": 466
        }
      },
      "source": [
        "value_percentage_chart('Nicotine')"
      ],
      "execution_count": 0,
      "outputs": [
        {
          "output_type": "display_data",
          "data": {
            "image/png": "[encoded data removed]",
            "text/plain": [
              "<Figure size 576x576 with 1 Axes>"
            ]
          },
          "metadata": {
            "tags": []
          }
        }
      ]
    },
    {
      "cell_type": "code",
      "metadata": {
        "id": "wgmhrHAFQvD7",
        "colab_type": "code",
        "outputId": "b902b1be-e18b-4623-9c28-cc2342a8a6d2",
        "colab": {
          "base_uri": "https://localhost:8080/",
          "height": 466
        }
      },
      "source": [
        "value_percentage_chart('Age')"
      ],
      "execution_count": 0,
      "outputs": [
        {
          "output_type": "display_data",
          "data": {
            "image/png": "[encoded data removed]",
            "text/plain": [
              "<Figure size 576x576 with 1 Axes>"
            ]
          },
          "metadata": {
            "tags": []
          }
        }
      ]
    },
    {
      "cell_type": "code",
      "metadata": {
        "id": "1poQJ3eDNB1T",
        "colab_type": "code",
        "outputId": "8f001043-98bf-43ec-a2e7-aad270bd0646",
        "colab": {
          "base_uri": "https://localhost:8080/",
          "height": 466
        }
      },
      "source": [
        "value_percentage_chart('Gender')"
      ],
      "execution_count": 0,
      "outputs": [
        {
          "output_type": "display_data",
          "data": {
            "image/png": "[encoded data removed]",
            "text/plain": [
              "<Figure size 576x576 with 1 Axes>"
            ]
          },
          "metadata": {
            "tags": []
          }
        }
      ]
    },
    {
      "cell_type": "code",
      "metadata": {
        "id": "YFnaZZxNNHGt",
        "colab_type": "code",
        "outputId": "b4b43ec6-07f8-4f28-d744-dba3c2eba0f0",
        "colab": {
          "base_uri": "https://localhost:8080/",
          "height": 466
        }
      },
      "source": [
        "value_percentage_chart('Ethnicity')"
      ],
      "execution_count": 0,
      "outputs": [
        {
          "output_type": "display_data",
          "data": {
            "image/png": "[encoded data removed]",
            "text/plain": [
              "<Figure size 576x576 with 1 Axes>"
            ]
          },
          "metadata": {
            "tags": []
          }
        }
      ]
    },
    {
      "cell_type": "code",
      "metadata": {
        "id": "zd-7qs6LQ1qk",
        "colab_type": "code",
        "colab": {}
      },
      "source": [
        "def histogram_func(column_name):\n",
        "  ax = sns.countplot(df[column_name])\n",
        "  ax.set_xticklabels(\n",
        "      ax.get_xticklabels(),\n",
        "      rotation=20,\n",
        "      horizontalalignment='right'\n",
        "  )"
      ],
      "execution_count": 0,
      "outputs": []
    },
    {
      "cell_type": "code",
      "metadata": {
        "id": "f5MEpYnLWN5h",
        "colab_type": "code",
        "outputId": "a1bf72d5-b2b3-4346-bdd0-6f4e343b66f7",
        "colab": {
          "base_uri": "https://localhost:8080/",
          "height": 311
        }
      },
      "source": [
        "histogram_func('Ethnicity')"
      ],
      "execution_count": 0,
      "outputs": [
        {
          "output_type": "display_data",
          "data": {
            "image/png": "[encoded data removed]",
            "text/plain": [
              "<Figure size 432x288 with 1 Axes>"
            ]
          },
          "metadata": {
            "tags": [],
            "needs_background": "light"
          }
        }
      ]
    },
    {
      "cell_type": "code",
      "metadata": {
        "id": "_5Lfo9NXN0-8",
        "colab_type": "code",
        "outputId": "9b8dcd69-6082-4037-e05c-f4e43ef554dd",
        "colab": {
          "base_uri": "https://localhost:8080/",
          "height": 321
        }
      },
      "source": [
        "histogram_func('Alcohol')"
      ],
      "execution_count": 0,
      "outputs": [
        {
          "output_type": "display_data",
          "data": {
            "image/png": "[encoded data removed]",
            "text/plain": [
              "<Figure size 432x288 with 1 Axes>"
            ]
          },
          "metadata": {
            "tags": [],
            "needs_background": "light"
          }
        }
      ]
    },
    {
      "cell_type": "code",
      "metadata": {
        "id": "zW4LBO5PN6Cg",
        "colab_type": "code",
        "outputId": "ec791c14-8e4f-42fd-8e45-0309ae3d70ec",
        "colab": {
          "base_uri": "https://localhost:8080/",
          "height": 321
        }
      },
      "source": [
        "histogram_func('Caffeine')"
      ],
      "execution_count": 0,
      "outputs": [
        {
          "output_type": "display_data",
          "data": {
            "image/png": "[encoded data removed]",
            "text/plain": [
              "<Figure size 432x288 with 1 Axes>"
            ]
          },
          "metadata": {
            "tags": [],
            "needs_background": "light"
          }
        }
      ]
    },
    {
      "cell_type": "code",
      "metadata": {
        "id": "OrwQH-QPOAlo",
        "colab_type": "code",
        "outputId": "805ed895-8f2c-47d2-897b-f50d65b593c2",
        "colab": {
          "base_uri": "https://localhost:8080/",
          "height": 321
        }
      },
      "source": [
        "histogram_func('Chocolate')"
      ],
      "execution_count": 0,
      "outputs": [
        {
          "output_type": "display_data",
          "data": {
            "image/png": "[encoded data removed]",
            "text/plain": [
              "<Figure size 432x288 with 1 Axes>"
            ]
          },
          "metadata": {
            "tags": [],
            "needs_background": "light"
          }
        }
      ]
    },
    {
      "cell_type": "code",
      "metadata": {
        "id": "WEkMr5rcOIaX",
        "colab_type": "code",
        "outputId": "2547c528-ecc6-4724-9bd2-ceab2ab71a48",
        "colab": {
          "base_uri": "https://localhost:8080/",
          "height": 321
        }
      },
      "source": [
        "histogram_func('Cannabis')"
      ],
      "execution_count": 0,
      "outputs": [
        {
          "output_type": "display_data",
          "data": {
            "image/png": "[encoded data removed]",
            "text/plain": [
              "<Figure size 432x288 with 1 Axes>"
            ]
          },
          "metadata": {
            "tags": [],
            "needs_background": "light"
          }
        }
      ]
    },
    {
      "cell_type": "code",
      "metadata": {
        "id": "oucrh59zONt7",
        "colab_type": "code",
        "outputId": "c74f8f76-3e51-4a34-9457-dd04b11a726a",
        "colab": {
          "base_uri": "https://localhost:8080/",
          "height": 321
        }
      },
      "source": [
        "histogram_func('Cocaine')"
      ],
      "execution_count": 0,
      "outputs": [
        {
          "output_type": "display_data",
          "data": {
            "image/png": "[encoded data removed]",
            "text/plain": [
              "<Figure size 432x288 with 1 Axes>"
            ]
          },
          "metadata": {
            "tags": [],
            "needs_background": "light"
          }
        }
      ]
    },
    {
      "cell_type": "code",
      "metadata": {
        "id": "NquAZ5m1ORLt",
        "colab_type": "code",
        "outputId": "f893f974-3afc-4f9c-b922-1311e4ec4065",
        "colab": {
          "base_uri": "https://localhost:8080/",
          "height": 321
        }
      },
      "source": [
        "histogram_func('Crack')"
      ],
      "execution_count": 0,
      "outputs": [
        {
          "output_type": "display_data",
          "data": {
            "image/png": "[encoded data removed]",
            "text/plain": [
              "<Figure size 432x288 with 1 Axes>"
            ]
          },
          "metadata": {
            "tags": [],
            "needs_background": "light"
          }
        }
      ]
    },
    {
      "cell_type": "markdown",
      "metadata": {
        "id": "T_znngrjfgjI",
        "colab_type": "text"
      },
      "source": [
        "From the above histogram we can see that people consume legal drugs such as Alcohol, Caffeine and Chocolate on a more regular basis than they have consumed illegal drugs such as Crack, Cocaine, LSD."
      ]
    },
    {
      "cell_type": "markdown",
      "metadata": {
        "id": "YT6xOzMQrRYX",
        "colab_type": "text"
      },
      "source": [
        "### Hypothesis 2:\n",
        "Do people using Cannabis result in using hard drugs like Cocaine, LSD, Ecstasy. Can we conclude in general that Cannabis a gateway drug to other drugs?"
      ]
    },
    {
      "cell_type": "markdown",
      "metadata": {
        "id": "kh5jFyTdeYoY",
        "colab_type": "text"
      },
      "source": [
        "Let's find out how each attribute in the data is related with other columns. I am finding the Pearson correlation as our data is categorical. "
      ]
    },
    {
      "cell_type": "code",
      "metadata": {
        "id": "9a8CIjDP0ysG",
        "colab_type": "code",
        "colab": {}
      },
      "source": [
        "#Changing the data type of columns to 'category' in order to find the correlation\n",
        "pd.options.mode.chained_assignment = None\n",
        "df['Age'] = df['Age'].astype('category').cat.codes\n",
        "df['Gender1'] = df['Gender'].astype('category').cat.codes\n",
        "df['Ethnicity1'] = df['Ethnicity'].astype('category').cat.codes\n",
        "df['Education1'] = df['Education'].astype('category').cat.codes\n",
        "df['Country1'] = df['Country'].astype('category').cat.codes\n",
        "df['Alcohol1'] = df['Alcohol'].astype('category').cat.codes\n",
        "df['Caffeine1'] = df['Caffeine'].astype('category').cat.codes\n",
        "df['Cannabis1'] = df['Cannabis'].astype('category').cat.codes\n",
        "df['Chocolate1'] = df['Chocolate'].astype('category').cat.codes\n",
        "df['Cocaine1'] = df['Cocaine'].astype('category').cat.codes\n",
        "df['Crack1'] = df['Crack'].astype('category').cat.codes\n",
        "df['Heroin1'] = df['Heroin'].astype('category').cat.codes\n",
        "df['LSD1'] = df['LSD'].astype('category').cat.codes\n",
        "df['Mushroom1'] = df['Mushroom'].astype('category').cat.codes\n",
        "df['Nicotine1'] = df['Nicotine'].astype('category').cat.codes"
      ],
      "execution_count": 0,
      "outputs": []
    },
    {
      "cell_type": "code",
      "metadata": {
        "id": "dSGj8DRjqrJA",
        "colab_type": "code",
        "colab": {}
      },
      "source": [
        "correlation = df.corr(method = 'pearson')"
      ],
      "execution_count": 0,
      "outputs": []
    },
    {
      "cell_type": "code",
      "metadata": {
        "id": "psUeS3FQqK63",
        "colab_type": "code",
        "outputId": "990ac9fd-bdd4-4db7-8f5c-855f3345de89",
        "colab": {
          "base_uri": "https://localhost:8080/",
          "height": 522
        }
      },
      "source": [
        "correlation"
      ],
      "execution_count": 0,
      "outputs": [
        {
          "output_type": "execute_result",
          "data": {
            "text/html": [
              "<div>\n",
              "<style scoped>\n",
              "    .dataframe tbody tr th:only-of-type {\n",
              "        vertical-align: middle;\n",
              "    }\n",
              "\n",
              "    .dataframe tbody tr th {\n",
              "        vertical-align: top;\n",
              "    }\n",
              "\n",
              "    .dataframe thead th {\n",
              "        text-align: right;\n",
              "    }\n",
              "</style>\n",
              "<table border=\"1\" class=\"dataframe\">\n",
              "  <thead>\n",
              "    <tr style=\"text-align: right;\">\n",
              "      <th></th>\n",
              "      <th>Age</th>\n",
              "      <th>Gender</th>\n",
              "      <th>Education</th>\n",
              "      <th>Country</th>\n",
              "      <th>Ethnicity</th>\n",
              "      <th>Alcohol</th>\n",
              "      <th>Caffeine</th>\n",
              "      <th>Cannabis</th>\n",
              "      <th>Chocolate</th>\n",
              "      <th>Cocaine</th>\n",
              "      <th>Crack</th>\n",
              "      <th>Heroin</th>\n",
              "      <th>LSD</th>\n",
              "      <th>Mushroom</th>\n",
              "      <th>Nicotine</th>\n",
              "    </tr>\n",
              "  </thead>\n",
              "  <tbody>\n",
              "    <tr>\n",
              "      <th>Age</th>\n",
              "      <td>1.000000</td>\n",
              "      <td>-0.096515</td>\n",
              "      <td>-0.222876</td>\n",
              "      <td>-0.058735</td>\n",
              "      <td>0.043342</td>\n",
              "      <td>-0.037292</td>\n",
              "      <td>-0.135656</td>\n",
              "      <td>0.018551</td>\n",
              "      <td>-0.053589</td>\n",
              "      <td>0.012299</td>\n",
              "      <td>0.050189</td>\n",
              "      <td>0.062532</td>\n",
              "      <td>0.046926</td>\n",
              "      <td>-0.013959</td>\n",
              "      <td>0.047797</td>\n",
              "    </tr>\n",
              "    <tr>\n",
              "      <th>Gender</th>\n",
              "      <td>-0.096515</td>\n",
              "      <td>1.000000</td>\n",
              "      <td>0.067293</td>\n",
              "      <td>-0.017922</td>\n",
              "      <td>0.020920</td>\n",
              "      <td>-0.037188</td>\n",
              "      <td>0.002569</td>\n",
              "      <td>0.102190</td>\n",
              "      <td>0.049635</td>\n",
              "      <td>0.115401</td>\n",
              "      <td>0.068850</td>\n",
              "      <td>0.069741</td>\n",
              "      <td>0.150335</td>\n",
              "      <td>0.157578</td>\n",
              "      <td>0.057068</td>\n",
              "    </tr>\n",
              "    <tr>\n",
              "      <th>Education</th>\n",
              "      <td>-0.222876</td>\n",
              "      <td>0.067293</td>\n",
              "      <td>1.000000</td>\n",
              "      <td>0.103673</td>\n",
              "      <td>-0.020893</td>\n",
              "      <td>-0.011634</td>\n",
              "      <td>0.025913</td>\n",
              "      <td>0.006598</td>\n",
              "      <td>0.004138</td>\n",
              "      <td>0.039880</td>\n",
              "      <td>-0.013995</td>\n",
              "      <td>-0.022023</td>\n",
              "      <td>0.065730</td>\n",
              "      <td>0.068285</td>\n",
              "      <td>0.017650</td>\n",
              "    </tr>\n",
              "    <tr>\n",
              "      <th>Country</th>\n",
              "      <td>-0.058735</td>\n",
              "      <td>-0.017922</td>\n",
              "      <td>0.103673</td>\n",
              "      <td>1.000000</td>\n",
              "      <td>-0.028111</td>\n",
              "      <td>-0.003411</td>\n",
              "      <td>-0.034346</td>\n",
              "      <td>-0.009579</td>\n",
              "      <td>-0.017997</td>\n",
              "      <td>-0.003247</td>\n",
              "      <td>-0.004022</td>\n",
              "      <td>0.029472</td>\n",
              "      <td>-0.005670</td>\n",
              "      <td>0.000970</td>\n",
              "      <td>0.014935</td>\n",
              "    </tr>\n",
              "    <tr>\n",
              "      <th>Ethnicity</th>\n",
              "      <td>0.043342</td>\n",
              "      <td>0.020920</td>\n",
              "      <td>-0.020893</td>\n",
              "      <td>-0.028111</td>\n",
              "      <td>1.000000</td>\n",
              "      <td>0.027733</td>\n",
              "      <td>-0.041895</td>\n",
              "      <td>0.091483</td>\n",
              "      <td>0.005414</td>\n",
              "      <td>0.042346</td>\n",
              "      <td>-0.009937</td>\n",
              "      <td>0.004574</td>\n",
              "      <td>0.044823</td>\n",
              "      <td>0.055221</td>\n",
              "      <td>0.073311</td>\n",
              "    </tr>\n",
              "    <tr>\n",
              "      <th>Alcohol</th>\n",
              "      <td>-0.037292</td>\n",
              "      <td>-0.037188</td>\n",
              "      <td>-0.011634</td>\n",
              "      <td>-0.003411</td>\n",
              "      <td>0.027733</td>\n",
              "      <td>1.000000</td>\n",
              "      <td>0.044604</td>\n",
              "      <td>0.009120</td>\n",
              "      <td>0.030161</td>\n",
              "      <td>-0.010804</td>\n",
              "      <td>0.030604</td>\n",
              "      <td>0.021247</td>\n",
              "      <td>-0.018786</td>\n",
              "      <td>-0.023683</td>\n",
              "      <td>-0.010492</td>\n",
              "    </tr>\n",
              "    <tr>\n",
              "      <th>Caffeine</th>\n",
              "      <td>-0.135656</td>\n",
              "      <td>0.002569</td>\n",
              "      <td>0.025913</td>\n",
              "      <td>-0.034346</td>\n",
              "      <td>-0.041895</td>\n",
              "      <td>0.044604</td>\n",
              "      <td>1.000000</td>\n",
              "      <td>0.019558</td>\n",
              "      <td>0.073866</td>\n",
              "      <td>-0.037226</td>\n",
              "      <td>0.027156</td>\n",
              "      <td>-0.003188</td>\n",
              "      <td>0.009454</td>\n",
              "      <td>-0.011319</td>\n",
              "      <td>0.047306</td>\n",
              "    </tr>\n",
              "    <tr>\n",
              "      <th>Cannabis</th>\n",
              "      <td>0.018551</td>\n",
              "      <td>0.102190</td>\n",
              "      <td>0.006598</td>\n",
              "      <td>-0.009579</td>\n",
              "      <td>0.091483</td>\n",
              "      <td>0.009120</td>\n",
              "      <td>0.019558</td>\n",
              "      <td>1.000000</td>\n",
              "      <td>0.044944</td>\n",
              "      <td>0.148947</td>\n",
              "      <td>0.063411</td>\n",
              "      <td>0.066087</td>\n",
              "      <td>0.140739</td>\n",
              "      <td>0.143421</td>\n",
              "      <td>0.180418</td>\n",
              "    </tr>\n",
              "    <tr>\n",
              "      <th>Chocolate</th>\n",
              "      <td>-0.053589</td>\n",
              "      <td>0.049635</td>\n",
              "      <td>0.004138</td>\n",
              "      <td>-0.017997</td>\n",
              "      <td>0.005414</td>\n",
              "      <td>0.030161</td>\n",
              "      <td>0.073866</td>\n",
              "      <td>0.044944</td>\n",
              "      <td>1.000000</td>\n",
              "      <td>0.012745</td>\n",
              "      <td>-0.000822</td>\n",
              "      <td>0.030785</td>\n",
              "      <td>0.053269</td>\n",
              "      <td>0.030820</td>\n",
              "      <td>-0.012028</td>\n",
              "    </tr>\n",
              "    <tr>\n",
              "      <th>Cocaine</th>\n",
              "      <td>0.012299</td>\n",
              "      <td>0.115401</td>\n",
              "      <td>0.039880</td>\n",
              "      <td>-0.003247</td>\n",
              "      <td>0.042346</td>\n",
              "      <td>-0.010804</td>\n",
              "      <td>-0.037226</td>\n",
              "      <td>0.148947</td>\n",
              "      <td>0.012745</td>\n",
              "      <td>1.000000</td>\n",
              "      <td>0.258889</td>\n",
              "      <td>0.255202</td>\n",
              "      <td>0.290244</td>\n",
              "      <td>0.284173</td>\n",
              "      <td>0.070978</td>\n",
              "    </tr>\n",
              "    <tr>\n",
              "      <th>Crack</th>\n",
              "      <td>0.050189</td>\n",
              "      <td>0.068850</td>\n",
              "      <td>-0.013995</td>\n",
              "      <td>-0.004022</td>\n",
              "      <td>-0.009937</td>\n",
              "      <td>0.030604</td>\n",
              "      <td>0.027156</td>\n",
              "      <td>0.063411</td>\n",
              "      <td>-0.000822</td>\n",
              "      <td>0.258889</td>\n",
              "      <td>1.000000</td>\n",
              "      <td>0.320447</td>\n",
              "      <td>0.200078</td>\n",
              "      <td>0.161735</td>\n",
              "      <td>0.048624</td>\n",
              "    </tr>\n",
              "    <tr>\n",
              "      <th>Heroin</th>\n",
              "      <td>0.062532</td>\n",
              "      <td>0.069741</td>\n",
              "      <td>-0.022023</td>\n",
              "      <td>0.029472</td>\n",
              "      <td>0.004574</td>\n",
              "      <td>0.021247</td>\n",
              "      <td>-0.003188</td>\n",
              "      <td>0.066087</td>\n",
              "      <td>0.030785</td>\n",
              "      <td>0.255202</td>\n",
              "      <td>0.320447</td>\n",
              "      <td>1.000000</td>\n",
              "      <td>0.205876</td>\n",
              "      <td>0.133088</td>\n",
              "      <td>0.042975</td>\n",
              "    </tr>\n",
              "    <tr>\n",
              "      <th>LSD</th>\n",
              "      <td>0.046926</td>\n",
              "      <td>0.150335</td>\n",
              "      <td>0.065730</td>\n",
              "      <td>-0.005670</td>\n",
              "      <td>0.044823</td>\n",
              "      <td>-0.018786</td>\n",
              "      <td>0.009454</td>\n",
              "      <td>0.140739</td>\n",
              "      <td>0.053269</td>\n",
              "      <td>0.290244</td>\n",
              "      <td>0.200078</td>\n",
              "      <td>0.205876</td>\n",
              "      <td>1.000000</td>\n",
              "      <td>0.501619</td>\n",
              "      <td>0.106669</td>\n",
              "    </tr>\n",
              "    <tr>\n",
              "      <th>Mushroom</th>\n",
              "      <td>-0.013959</td>\n",
              "      <td>0.157578</td>\n",
              "      <td>0.068285</td>\n",
              "      <td>0.000970</td>\n",
              "      <td>0.055221</td>\n",
              "      <td>-0.023683</td>\n",
              "      <td>-0.011319</td>\n",
              "      <td>0.143421</td>\n",
              "      <td>0.030820</td>\n",
              "      <td>0.284173</td>\n",
              "      <td>0.161735</td>\n",
              "      <td>0.133088</td>\n",
              "      <td>0.501619</td>\n",
              "      <td>1.000000</td>\n",
              "      <td>0.120508</td>\n",
              "    </tr>\n",
              "    <tr>\n",
              "      <th>Nicotine</th>\n",
              "      <td>0.047797</td>\n",
              "      <td>0.057068</td>\n",
              "      <td>0.017650</td>\n",
              "      <td>0.014935</td>\n",
              "      <td>0.073311</td>\n",
              "      <td>-0.010492</td>\n",
              "      <td>0.047306</td>\n",
              "      <td>0.180418</td>\n",
              "      <td>-0.012028</td>\n",
              "      <td>0.070978</td>\n",
              "      <td>0.048624</td>\n",
              "      <td>0.042975</td>\n",
              "      <td>0.106669</td>\n",
              "      <td>0.120508</td>\n",
              "      <td>1.000000</td>\n",
              "    </tr>\n",
              "  </tbody>\n",
              "</table>\n",
              "</div>"
            ],
            "text/plain": [
              "                Age    Gender  Education  ...       LSD  Mushroom  Nicotine\n",
              "Age        1.000000 -0.096515  -0.222876  ...  0.046926 -0.013959  0.047797\n",
              "Gender    -0.096515  1.000000   0.067293  ...  0.150335  0.157578  0.057068\n",
              "Education -0.222876  0.067293   1.000000  ...  0.065730  0.068285  0.017650\n",
              "Country   -0.058735 -0.017922   0.103673  ... -0.005670  0.000970  0.014935\n",
              "Ethnicity  0.043342  0.020920  -0.020893  ...  0.044823  0.055221  0.073311\n",
              "Alcohol   -0.037292 -0.037188  -0.011634  ... -0.018786 -0.023683 -0.010492\n",
              "Caffeine  -0.135656  0.002569   0.025913  ...  0.009454 -0.011319  0.047306\n",
              "Cannabis   0.018551  0.102190   0.006598  ...  0.140739  0.143421  0.180418\n",
              "Chocolate -0.053589  0.049635   0.004138  ...  0.053269  0.030820 -0.012028\n",
              "Cocaine    0.012299  0.115401   0.039880  ...  0.290244  0.284173  0.070978\n",
              "Crack      0.050189  0.068850  -0.013995  ...  0.200078  0.161735  0.048624\n",
              "Heroin     0.062532  0.069741  -0.022023  ...  0.205876  0.133088  0.042975\n",
              "LSD        0.046926  0.150335   0.065730  ...  1.000000  0.501619  0.106669\n",
              "Mushroom  -0.013959  0.157578   0.068285  ...  0.501619  1.000000  0.120508\n",
              "Nicotine   0.047797  0.057068   0.017650  ...  0.106669  0.120508  1.000000\n",
              "\n",
              "[15 rows x 15 columns]"
            ]
          },
          "metadata": {
            "tags": []
          },
          "execution_count": 186
        }
      ]
    },
    {
      "cell_type": "code",
      "metadata": {
        "id": "MrskiVDpWt0c",
        "colab_type": "code",
        "outputId": "d49d3d60-e20f-43f9-fe2a-5ce0f28376aa",
        "colab": {
          "base_uri": "https://localhost:8080/",
          "height": 566
        }
      },
      "source": [
        "\n",
        "ax = sns.heatmap(\n",
        "  correlation)\n",
        "ax.set_xticklabels(\n",
        "    ax.get_xticklabels(),\n",
        "    rotation=45,\n",
        "    horizontalalignment='right'\n",
        ")"
      ],
      "execution_count": 0,
      "outputs": [
        {
          "output_type": "execute_result",
          "data": {
            "text/plain": [
              "[Text(0.5, 0, 'Age'),\n",
              " Text(1.5, 0, 'Gender'),\n",
              " Text(2.5, 0, 'Education'),\n",
              " Text(3.5, 0, 'Country'),\n",
              " Text(4.5, 0, 'Ethnicity'),\n",
              " Text(5.5, 0, 'Alcohol'),\n",
              " Text(6.5, 0, 'Caffeine'),\n",
              " Text(7.5, 0, 'Cannabis'),\n",
              " Text(8.5, 0, 'Chocolate'),\n",
              " Text(9.5, 0, 'Cocaine'),\n",
              " Text(10.5, 0, 'Crack'),\n",
              " Text(11.5, 0, 'Heroin'),\n",
              " Text(12.5, 0, 'LSD'),\n",
              " Text(13.5, 0, 'Mushroom'),\n",
              " Text(14.5, 0, 'Nicotine')]"
            ]
          },
          "metadata": {
            "tags": []
          },
          "execution_count": 67
        },
        {
          "output_type": "display_data",
          "data": {
            "image/png": "[encoded data removed]",
            "text/plain": [
              "<Figure size 432x288 with 2 Axes>"
            ]
          },
          "metadata": {
            "tags": [],
            "needs_background": "light"
          }
        }
      ]
    },
    {
      "cell_type": "code",
      "metadata": {
        "id": "x9FK4QrA4Dtj",
        "colab_type": "code",
        "outputId": "029e88ff-52c2-49dc-a46f-a388aac1dc9c",
        "colab": {
          "base_uri": "https://localhost:8080/",
          "height": 299
        }
      },
      "source": [
        "# Code Source: https://towardsdatascience.com/better-heatmaps-and-correlation-matrix-plots-in-python-41445d0f2bec\n",
        "def heatmap(x, y, size):\n",
        "    fig, ax = plt.subplots()\n",
        "    \n",
        "    # Mapping from column names to integer coordinates\n",
        "    x_labels = [v for v in sorted(x.unique())]\n",
        "    y_labels = [v for v in sorted(y.unique())]\n",
        "    x_to_num = {p[1]:p[0] for p in enumerate(x_labels)} \n",
        "    y_to_num = {p[1]:p[0] for p in enumerate(y_labels)} \n",
        "    \n",
        "    size_scale = 500\n",
        "    ax.scatter(\n",
        "        x=x.map(x_to_num), # Use mapping for x\n",
        "        y=y.map(y_to_num), # Use mapping for y\n",
        "        s=size * size_scale, # Vector of square sizes, proportional to size parameter\n",
        "        marker='s' # Use square as scatterplot marker\n",
        "    )\n",
        "    \n",
        "    # Show column labels on the axes\n",
        "    ax.set_xticks([x_to_num[v] for v in x_labels])\n",
        "    ax.set_xticklabels(x_labels, rotation=45, horizontalalignment='right')\n",
        "    ax.set_yticks([y_to_num[v] for v in y_labels])\n",
        "    ax.set_yticklabels(y_labels)\n",
        "    \n",
        "\n",
        "corr = df.corr()\n",
        "corr = pd.melt(corr.reset_index(), id_vars='index') # Unpivot the dataframe, so we can get pair of arrays for x and y\n",
        "corr.columns = ['x', 'y', 'value']\n",
        "heatmap(\n",
        "    x=corr['x'],\n",
        "    y=corr['y'],\n",
        "    size=corr['value'].abs())\n"
      ],
      "execution_count": 0,
      "outputs": [
        {
          "output_type": "display_data",
          "data": {
            "image/png": "[encoded data removed]",
            "text/plain": [
              "<Figure size 432x288 with 1 Axes>"
            ]
          },
          "metadata": {
            "tags": [],
            "needs_background": "light"
          }
        }
      ]
    },
    {
      "cell_type": "markdown",
      "metadata": {
        "id": "EJq02e0IpFZy",
        "colab_type": "text"
      },
      "source": [
        "Thes size of the boxes represents how much two columns are correlated with each other.We can see that the largest boxes are on a diagnol, which makes sense as the correlation of a attribute with itself would be the highest(1). We can see from the heatmap,that illegal drugs have positive correlated to other illegal drugs. Cannabis is positively correlated with Cocaine, Mushroom and LSD."
      ]
    },
    {
      "cell_type": "markdown",
      "metadata": {
        "id": "jhrT7Bmqr9XV",
        "colab_type": "text"
      },
      "source": [
        "Currently working on finding a way which would provide more substansial proof for this hypothesis"
      ]
    },
    {
      "cell_type": "markdown",
      "metadata": {
        "id": "K6Y-QdDGgCB1",
        "colab_type": "text"
      },
      "source": [
        "## Hypothesis 1\n",
        "The average age of people drinking alcohol is less in the United Kingdom than in the United States."
      ]
    },
    {
      "cell_type": "markdown",
      "metadata": {
        "id": "lWVYZueZs2zV",
        "colab_type": "text"
      },
      "source": [
        "We have categorical values instead of continuous values for age as well as consumption of drugs. So I changed the categorical values into ordinal values to perform analysis."
      ]
    },
    {
      "cell_type": "code",
      "metadata": {
        "id": "zW4EETERUeuo",
        "colab_type": "code",
        "colab": {}
      },
      "source": [
        "drug_dict_new = {'Never Used':1,'Used over a Decade Ago':2,'Used in Last Decade':3, 'Used in Last Year':4,'Used in Last Month':5,'Used in Last Week':6,'Used in Last Day':7}\n",
        "age_dict_new={'18-24':1,'25-34':2,'35-44':3,'45-54':4,'55-64':5,'65+':6}"
      ],
      "execution_count": 0,
      "outputs": []
    },
    {
      "cell_type": "code",
      "metadata": {
        "id": "Fj4jjx4SYQkK",
        "colab_type": "code",
        "colab": {}
      },
      "source": [
        "df['Age'].replace(age_dict_new,inplace = True)"
      ],
      "execution_count": 0,
      "outputs": []
    },
    {
      "cell_type": "code",
      "metadata": {
        "id": "WWHNp17GYhn1",
        "colab_type": "code",
        "outputId": "90fa4446-ddde-470f-cb1a-cea3536c29e9",
        "colab": {
          "base_uri": "https://localhost:8080/",
          "height": 773
        }
      },
      "source": [
        "df.groupby(['Country','Alcohol'])['Age'].mean()"
      ],
      "execution_count": 0,
      "outputs": [
        {
          "output_type": "execute_result",
          "data": {
            "text/plain": [
              "Country              Alcohol               \n",
              "Australia            Used in Last Day          2.133333\n",
              "                     Used in Last Month        2.416667\n",
              "                     Used in Last Week         1.588235\n",
              "                     Used in Last Year         2.222222\n",
              "                     Used over a Decade Ago    4.000000\n",
              "Canada               Never Used                2.666667\n",
              "                     Used in Last Day          2.437500\n",
              "                     Used in Last Decade       3.166667\n",
              "                     Used in Last Month        2.750000\n",
              "                     Used in Last Week         2.000000\n",
              "                     Used in Last Year         2.000000\n",
              "                     Used over a Decade Ago    4.750000\n",
              "New Zealand          Used in Last Day          2.000000\n",
              "                     Used in Last Week         1.000000\n",
              "                     Used in Last Year         1.500000\n",
              "Other                Never Used                1.666667\n",
              "                     Used in Last Day          1.967742\n",
              "                     Used in Last Decade       1.333333\n",
              "                     Used in Last Month        1.909091\n",
              "                     Used in Last Week         1.826087\n",
              "                     Used in Last Year         2.307692\n",
              "Republic of Ireland  Never Used                1.000000\n",
              "                     Used in Last Day          1.000000\n",
              "                     Used in Last Month        2.000000\n",
              "                     Used in Last Week         1.900000\n",
              "                     Used in Last Year         3.250000\n",
              "                     Used over a Decade Ago    4.000000\n",
              "UK                   Never Used                2.650000\n",
              "                     Used in Last Day          2.898026\n",
              "                     Used in Last Decade       2.727273\n",
              "                     Used in Last Month        2.451613\n",
              "                     Used in Last Week         2.648590\n",
              "                     Used in Last Year         2.637500\n",
              "                     Used over a Decade Ago    3.545455\n",
              "USA                  Never Used                1.285714\n",
              "                     Used in Last Day          1.762963\n",
              "                     Used in Last Decade       3.000000\n",
              "                     Used in Last Month        1.572816\n",
              "                     Used in Last Week         1.575758\n",
              "                     Used in Last Year         1.865854\n",
              "                     Used over a Decade Ago    4.000000\n",
              "Name: Age, dtype: float64"
            ]
          },
          "metadata": {
            "tags": []
          },
          "execution_count": 182
        }
      ]
    },
    {
      "cell_type": "code",
      "metadata": {
        "id": "oh6eras3oq3u",
        "colab_type": "code",
        "colab": {}
      },
      "source": [
        "df1 = df[df['Alcohol'] != 'Never Used']"
      ],
      "execution_count": 0,
      "outputs": []
    },
    {
      "cell_type": "code",
      "metadata": {
        "id": "OtoRzTiJo299",
        "colab_type": "code",
        "outputId": "6c0ee2e5-0dd2-4e2d-8bc6-3fb8a0636eae",
        "colab": {
          "base_uri": "https://localhost:8080/",
          "height": 175
        }
      },
      "source": [
        "df1.groupby(['Country'])['Age'].mean()"
      ],
      "execution_count": 0,
      "outputs": [
        {
          "output_type": "execute_result",
          "data": {
            "text/plain": [
              "Country\n",
              "Australia              2.074074\n",
              "Canada                 2.511905\n",
              "New Zealand            1.600000\n",
              "Other                  1.921739\n",
              "Republic of Ireland    2.210526\n",
              "UK                     2.719727\n",
              "USA                    1.758182\n",
              "Name: Age, dtype: float64"
            ]
          },
          "metadata": {
            "tags": []
          },
          "execution_count": 187
        }
      ]
    },
    {
      "cell_type": "markdown",
      "metadata": {
        "id": "wdMxMJB8gpDc",
        "colab_type": "text"
      },
      "source": [
        "## Hypothesis 3:\n",
        "Do men consume more nicotine than women?"
      ]
    },
    {
      "cell_type": "code",
      "metadata": {
        "id": "q-53m8VxVz7n",
        "colab_type": "code",
        "colab": {}
      },
      "source": [
        "df['Nicotine'].replace( drug_dict_new,inplace = True)"
      ],
      "execution_count": 0,
      "outputs": []
    },
    {
      "cell_type": "code",
      "metadata": {
        "id": "vp1I_EY-XCGV",
        "colab_type": "code",
        "outputId": "2f96a817-de7f-41b7-b678-737180917889",
        "colab": {
          "base_uri": "https://localhost:8080/",
          "height": 87
        }
      },
      "source": [
        "df.groupby('Gender')['Nicotine'].mean()"
      ],
      "execution_count": 0,
      "outputs": [
        {
          "output_type": "execute_result",
          "data": {
            "text/plain": [
              "Gender\n",
              "Female    3.736730\n",
              "Male      4.663839\n",
              "Name: Nicotine, dtype: float64"
            ]
          },
          "metadata": {
            "tags": []
          },
          "execution_count": 183
        }
      ]
    },
    {
      "cell_type": "code",
      "metadata": {
        "id": "GWUw2wkuooh8",
        "colab_type": "code",
        "colab": {}
      },
      "source": [
        ""
      ],
      "execution_count": 0,
      "outputs": []
    }
  ]
}