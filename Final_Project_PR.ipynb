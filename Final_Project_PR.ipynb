{
  "nbformat": 4,
  "nbformat_minor": 0,
  "metadata": {
    "colab": {
      "name": "Final_Project_PR.ipynb",
      "provenance": [],
      "collapsed_sections": [],
      "toc_visible": true,
      "authorship_tag": "ABX9TyOkhLMNwSipBRDq1OBq4H0z",
      "include_colab_link": true
    },
    "kernelspec": {
      "name": "python3",
      "display_name": "Python 3"
    }
  },
  "cells": [
    {
      "cell_type": "markdown",
      "metadata": {
        "id": "view-in-github",
        "colab_type": "text"
      },
      "source": [
        "<a href=\"https://colab.research.google.com/github/akshat3196/final_project_2020Sp/blob/master/Final_Project_PR.ipynb\" target=\"_parent\"><img src=\"https://colab.research.google.com/assets/colab-badge.svg\" alt=\"Open In Colab\"/></a>"
      ]
    },
    {
      "cell_type": "markdown",
      "metadata": {
        "id": "vwgEuV6qKk6R",
        "colab_type": "text"
      },
      "source": [
        "# Final Project IS 590_PR_Spring"
      ]
    },
    {
      "cell_type": "markdown",
      "metadata": {
        "id": "F0e9Idy6UahS",
        "colab_type": "text"
      },
      "source": [
        "##Data Source 1: Drug Consumption data of 1885 *correspondents*"
      ]
    },
    {
      "cell_type": "markdown",
      "metadata": {
        "id": "P4tui-8HKvDA",
        "colab_type": "text"
      },
      "source": [
        "## *Source and Copyrights*\n",
        "\n",
        "Source: UCI Machine Learning Repository\n",
        "\n",
        "Link: https://archive.ics.uci.edu/ml/datasets/Drug+consumption+%28quantified%29\n",
        "\n",
        "Copyrights: Data was donated to the UCI repository on 17-10-2016 and can be used for academic purposes."
      ]
    },
    {
      "cell_type": "markdown",
      "metadata": {
        "id": "3WHTg10RLJo0",
        "colab_type": "text"
      },
      "source": [
        "## *Data Description*\n",
        "Database contains records for 1885 respondents. Each respondent contains some attributes like level of education, age, gender, country of residence and ethnicity. All input attributes are originally categorical and are quantified. After quantification values of all input features can be considered as real-valued. In addition, participants were questioned concerning their use of 18 legal and illegal drugs like alcohol cannabis, chocolate, cocaine, caffeine, LSD etc. For each drug they have to select one of the answers: never used the drug, used it over a decade ago, or in the last decade, year, month, week, or day."
      ]
    },
    {
      "cell_type": "markdown",
      "metadata": {
        "id": "lQeUdhYTa4oy",
        "colab_type": "text"
      },
      "source": [
        "##Data Source 2: World Wide alcohol consumption per person in an year"
      ]
    },
    {
      "cell_type": "markdown",
      "metadata": {
        "id": "qAFCLfMhcdPA",
        "colab_type": "text"
      },
      "source": [
        "## *Data Description*\n",
        "This dataset contains data for alcohol consumption of a single person in an year for all 228 countries. It has no null values and has four columns."
      ]
    },
    {
      "cell_type": "markdown",
      "metadata": {
        "id": "6wOg7It-U06C",
        "colab_type": "text"
      },
      "source": [
        "## *Source and Copyrights*\n",
        "\n",
        "Source: Our world in data\n",
        "\n",
        "Link: https://ourworldindata.org/alcohol-consumption\n",
        "\n",
        "Copyrights: Hannah Ritchie and Max Roser (2020) - \"Alcohol Consumption\". Published online at OurWorldInData.org."
      ]
    },
    {
      "cell_type": "markdown",
      "metadata": {
        "id": "iKCFFbBOav-T",
        "colab_type": "text"
      },
      "source": [
        "## Hypotheses Testing\n",
        "1.  Is there any positive correlation between Cannabis consumption and consumption of hard drugs, or these two variables are independent of each other?\n",
        "\n",
        "2. In 3 countries who top alcohol consumption, majority of the heavy drinkers are whites.\n",
        "\n",
        "\n",
        "3.  People who consume nicotine, also consume alcohol regularly."
      ]
    },
    {
      "cell_type": "code",
      "metadata": {
        "id": "B6SXosCd7q-w",
        "colab_type": "code",
        "colab": {}
      },
      "source": [
        "#importing necessary libraries\n",
        "import numpy as np\n",
        "import pandas as pd\n",
        "import matplotlib.pyplot as plt\n",
        "import seaborn as sns\n",
        "from scipy.stats import chi2_contingency\n",
        "from google.colab import files"
      ],
      "execution_count": 0,
      "outputs": []
    },
    {
      "cell_type": "code",
      "metadata": {
        "id": "L0kGjrH3AF0S",
        "colab_type": "code",
        "outputId": "35ff04f5-527d-4e44-99e0-863f45211848",
        "colab": {
          "resources": {
            "http://localhost:8080/nbextensions/google.colab/files.js": {
              "data": "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",
              "ok": true,
              "headers": [
                [
                  "content-type",
                  "application/javascript"
                ]
              ],
              "status": 200,
              "status_text": ""
            }
          },
          "base_uri": "https://localhost:8080/",
          "height": 113
        }
      },
      "source": [
        "data_file1 = files.upload()"
      ],
      "execution_count": 129,
      "outputs": [
        {
          "output_type": "display_data",
          "data": {
            "text/html": [
              "\n",
              "     <input type=\"file\" id=\"files-a21cf1fb-9751-478f-91cf-7e1025bfb0bb\" name=\"files[]\" multiple disabled />\n",
              "     <output id=\"result-a21cf1fb-9751-478f-91cf-7e1025bfb0bb\">\n",
              "      Upload widget is only available when the cell has been executed in the\n",
              "      current browser session. Please rerun this cell to enable.\n",
              "      </output>\n",
              "      <script src=\"/nbextensions/google.colab/files.js\"></script> "
            ],
            "text/plain": [
              "<IPython.core.display.HTML object>"
            ]
          },
          "metadata": {
            "tags": []
          }
        },
        {
          "output_type": "stream",
          "text": [
            "Saving total-alcohol-consumption-per-capita-litres-of-pure-alcohol.csv to total-alcohol-consumption-per-capita-litres-of-pure-alcohol (1).csv\n"
          ],
          "name": "stdout"
        }
      ]
    },
    {
      "cell_type": "code",
      "metadata": {
        "id": "sgcvKXYK4rl2",
        "colab_type": "code",
        "colab": {
          "resources": {
            "http://localhost:8080/nbextensions/google.colab/files.js": {
              "data": "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",
              "ok": true,
              "headers": [
                [
                  "content-type",
                  "application/javascript"
                ]
              ],
              "status": 200,
              "status_text": ""
            }
          },
          "base_uri": "https://localhost:8080/",
          "height": 75
        },
        "outputId": "f1d4e7df-6320-403f-a00f-29641750cd7e"
      },
      "source": [
        "data_file2 = files.upload()"
      ],
      "execution_count": 130,
      "outputs": [
        {
          "output_type": "display_data",
          "data": {
            "text/html": [
              "\n",
              "     <input type=\"file\" id=\"files-70de3a2f-71ff-4224-9993-b20795ff78b1\" name=\"files[]\" multiple disabled />\n",
              "     <output id=\"result-70de3a2f-71ff-4224-9993-b20795ff78b1\">\n",
              "      Upload widget is only available when the cell has been executed in the\n",
              "      current browser session. Please rerun this cell to enable.\n",
              "      </output>\n",
              "      <script src=\"/nbextensions/google.colab/files.js\"></script> "
            ],
            "text/plain": [
              "<IPython.core.display.HTML object>"
            ]
          },
          "metadata": {
            "tags": []
          }
        },
        {
          "output_type": "stream",
          "text": [
            "Saving drug_consumption.data to drug_consumption (1).data\n"
          ],
          "name": "stdout"
        }
      ]
    },
    {
      "cell_type": "code",
      "metadata": {
        "id": "n5k0T0nhN5p9",
        "colab_type": "code",
        "colab": {}
      },
      "source": [
        "# round_value(intermediate_df,'Alcohol_consumption_per_person_yearly(ltr)',1)"
      ],
      "execution_count": 0,
      "outputs": []
    },
    {
      "cell_type": "markdown",
      "metadata": {
        "id": "TfYX4w3iiF-3",
        "colab_type": "text"
      },
      "source": [
        "### Preprocessing of the worldwide alcohol consumption file"
      ]
    },
    {
      "cell_type": "code",
      "metadata": {
        "id": "9vQi5BxRR1i1",
        "colab_type": "code",
        "colab": {}
      },
      "source": [
        "# Loading the data as a DataFrame\n",
        "alcohol_consumption = pd.read_csv('total-alcohol-consumption-per-capita-litres-of-pure-alcohol.csv')"
      ],
      "execution_count": 0,
      "outputs": []
    },
    {
      "cell_type": "code",
      "metadata": {
        "id": "7yYXpeH2SO0U",
        "colab_type": "code",
        "colab": {}
      },
      "source": [
        "# Renaming Columns\n",
        "alcohol_consumption.columns = ['Country',\n",
        " 'Code',\n",
        " 'Year',\n",
        " 'Alcohol_consumption_per_person_yearly(ltr)']"
      ],
      "execution_count": 0,
      "outputs": []
    },
    {
      "cell_type": "code",
      "metadata": {
        "id": "z1UtCGbDcUqU",
        "colab_type": "code",
        "colab": {
          "base_uri": "https://localhost:8080/",
          "height": 35
        },
        "outputId": "6c54f797-cb96-4e71-8801-fcd40f98953a"
      },
      "source": [
        "# Data Dimensionality\n",
        "alcohol_consumption.shape"
      ],
      "execution_count": 136,
      "outputs": [
        {
          "output_type": "execute_result",
          "data": {
            "text/plain": [
              "(228, 4)"
            ]
          },
          "metadata": {
            "tags": []
          },
          "execution_count": 136
        }
      ]
    },
    {
      "cell_type": "code",
      "metadata": {
        "id": "KmApnZNTdCBI",
        "colab_type": "code",
        "colab": {
          "base_uri": "https://localhost:8080/",
          "height": 208
        },
        "outputId": "f2e85dfe-77a4-457d-bd17-9df2271db995"
      },
      "source": [
        "# Verifying no null values\n",
        "alcohol_consumption.info()"
      ],
      "execution_count": 138,
      "outputs": [
        {
          "output_type": "stream",
          "text": [
            "<class 'pandas.core.frame.DataFrame'>\n",
            "RangeIndex: 228 entries, 0 to 227\n",
            "Data columns (total 4 columns):\n",
            " #   Column                                      Non-Null Count  Dtype  \n",
            "---  ------                                      --------------  -----  \n",
            " 0   Country                                     228 non-null    object \n",
            " 1   Code                                        182 non-null    object \n",
            " 2   Year                                        228 non-null    int64  \n",
            " 3   Alcohol_consumption_per_person_yearly(ltr)  228 non-null    float64\n",
            "dtypes: float64(1), int64(1), object(2)\n",
            "memory usage: 7.2+ KB\n"
          ],
          "name": "stdout"
        }
      ]
    },
    {
      "cell_type": "code",
      "metadata": {
        "id": "1tdFEP3dTxli",
        "colab_type": "code",
        "outputId": "46c72873-695a-46e4-a0fd-f35a10ecebd6",
        "colab": {
          "base_uri": "https://localhost:8080/",
          "height": 35
        }
      },
      "source": [
        "# Number of countries in the dataset\n",
        "alcohol_consumption['Country'].nunique()"
      ],
      "execution_count": 58,
      "outputs": [
        {
          "output_type": "execute_result",
          "data": {
            "text/plain": [
              "228"
            ]
          },
          "metadata": {
            "tags": []
          },
          "execution_count": 58
        }
      ]
    },
    {
      "cell_type": "code",
      "metadata": {
        "id": "KtR-RZPqdukZ",
        "colab_type": "code",
        "colab": {
          "base_uri": "https://localhost:8080/",
          "height": 104
        },
        "outputId": "0b046663-f97d-4108-9fa0-b91103419b04"
      },
      "source": [
        "#Checking datatypes of the columns\n",
        "alcohol_consumption.dtypes"
      ],
      "execution_count": 139,
      "outputs": [
        {
          "output_type": "execute_result",
          "data": {
            "text/plain": [
              "Country                                        object\n",
              "Code                                           object\n",
              "Year                                            int64\n",
              "Alcohol_consumption_per_person_yearly(ltr)    float64\n",
              "dtype: object"
            ]
          },
          "metadata": {
            "tags": []
          },
          "execution_count": 139
        }
      ]
    },
    {
      "cell_type": "code",
      "metadata": {
        "id": "9JeZeZDCVJ1O",
        "colab_type": "code",
        "colab": {}
      },
      "source": [
        "# We will store the mean alcohol consumption of the remaining countries in \"Others\" category\n",
        "other_country_alcohol_consumption_mean = alcohol_consumption[~alcohol_consumption['Country'].isin(['United Kingdom','United States','Canada','Australia','Ireland','New Zealand'])]['Alcohol_consumption_per_person_yearly(ltr)'].mean()"
      ],
      "execution_count": 0,
      "outputs": []
    },
    {
      "cell_type": "code",
      "metadata": {
        "id": "PLf_9S5WvTAx",
        "colab_type": "code",
        "colab": {}
      },
      "source": [
        "#Defining a function to round column values\n",
        " def round_value(dataframe, column_name,digit_count):\n",
        "   dataframe[column_name] = round(dataframe[column_name],digit_count)"
      ],
      "execution_count": 0,
      "outputs": []
    },
    {
      "cell_type": "code",
      "metadata": {
        "id": "mF3VCtw1SuHf",
        "colab_type": "code",
        "colab": {}
      },
      "source": [
        "# Taking the alcohol consumption of countries which are present in our drug consumption data\n",
        "intermediate_df = alcohol_consumption[alcohol_consumption['Country'].isin(['United Kingdom','United States','Canada','Australia','Ireland','New Zealand'])][['Country','Alcohol_consumption_per_person_yearly(ltr)']]"
      ],
      "execution_count": 0,
      "outputs": []
    },
    {
      "cell_type": "code",
      "metadata": {
        "id": "PfVgBQFjnlM6",
        "colab_type": "code",
        "colab": {
          "base_uri": "https://localhost:8080/",
          "height": 263
        },
        "outputId": "37cdc939-f8ad-4990-9515-e3ad65d81f52"
      },
      "source": [
        "# Concatenating \"Other\" option \n",
        "# concat_array = pd.Series(['Other',round(other_country_alcohol_consumption_mean,2)])\n",
        "concat_dict = {'Country':'Other',\"Alcohol_consumption_per_person_yearly(ltr)\":round(other_country_alcohol_consumption_mean,2)}\n",
        "intermediate_df2 = pd.DataFrame(concat_dict,index = [6])\n",
        "intermediate_df = pd.concat([intermediate_df,intermediate_df2])\n",
        "intermediate_df.reset_index(drop=True,inplace=True)\n",
        "intermediate_df"
      ],
      "execution_count": 157,
      "outputs": [
        {
          "output_type": "execute_result",
          "data": {
            "text/html": [
              "<div>\n",
              "<style scoped>\n",
              "    .dataframe tbody tr th:only-of-type {\n",
              "        vertical-align: middle;\n",
              "    }\n",
              "\n",
              "    .dataframe tbody tr th {\n",
              "        vertical-align: top;\n",
              "    }\n",
              "\n",
              "    .dataframe thead th {\n",
              "        text-align: right;\n",
              "    }\n",
              "</style>\n",
              "<table border=\"1\" class=\"dataframe\">\n",
              "  <thead>\n",
              "    <tr style=\"text-align: right;\">\n",
              "      <th></th>\n",
              "      <th>Country</th>\n",
              "      <th>Alcohol_consumption_per_person_yearly(ltr)</th>\n",
              "    </tr>\n",
              "  </thead>\n",
              "  <tbody>\n",
              "    <tr>\n",
              "      <th>0</th>\n",
              "      <td>Australia</td>\n",
              "      <td>10.60</td>\n",
              "    </tr>\n",
              "    <tr>\n",
              "      <th>1</th>\n",
              "      <td>Canada</td>\n",
              "      <td>8.90</td>\n",
              "    </tr>\n",
              "    <tr>\n",
              "      <th>2</th>\n",
              "      <td>Ireland</td>\n",
              "      <td>13.00</td>\n",
              "    </tr>\n",
              "    <tr>\n",
              "      <th>3</th>\n",
              "      <td>New Zealand</td>\n",
              "      <td>10.70</td>\n",
              "    </tr>\n",
              "    <tr>\n",
              "      <th>4</th>\n",
              "      <td>United Kingdom</td>\n",
              "      <td>11.40</td>\n",
              "    </tr>\n",
              "    <tr>\n",
              "      <th>5</th>\n",
              "      <td>United States</td>\n",
              "      <td>9.80</td>\n",
              "    </tr>\n",
              "    <tr>\n",
              "      <th>6</th>\n",
              "      <td>Other</td>\n",
              "      <td>6.12</td>\n",
              "    </tr>\n",
              "  </tbody>\n",
              "</table>\n",
              "</div>"
            ],
            "text/plain": [
              "          Country  Alcohol_consumption_per_person_yearly(ltr)\n",
              "0       Australia                                       10.60\n",
              "1          Canada                                        8.90\n",
              "2         Ireland                                       13.00\n",
              "3     New Zealand                                       10.70\n",
              "4  United Kingdom                                       11.40\n",
              "5   United States                                        9.80\n",
              "6           Other                                        6.12"
            ]
          },
          "metadata": {
            "tags": []
          },
          "execution_count": 157
        }
      ]
    },
    {
      "cell_type": "code",
      "metadata": {
        "id": "jxzAmik2rcz9",
        "colab_type": "code",
        "colab": {}
      },
      "source": [
        ""
      ],
      "execution_count": 0,
      "outputs": []
    },
    {
      "cell_type": "markdown",
      "metadata": {
        "id": "sayCZcsHijX8",
        "colab_type": "text"
      },
      "source": [
        "### Preprocessing of the drug consumption file"
      ]
    },
    {
      "cell_type": "code",
      "metadata": {
        "id": "nQtTmhRm8nla",
        "colab_type": "code",
        "colab": {}
      },
      "source": [
        "#importing data file\n",
        "df_raw = pd.read_csv('drug_consumption.data',header = None)"
      ],
      "execution_count": 0,
      "outputs": []
    },
    {
      "cell_type": "code",
      "metadata": {
        "id": "B3PDs9oPD3lO",
        "colab_type": "code",
        "outputId": "bcd1232c-02c8-45a3-ea8b-f550b49b5f24",
        "colab": {
          "base_uri": "https://localhost:8080/",
          "height": 35
        }
      },
      "source": [
        "#Data Dimensionality\n",
        "df_raw.shape"
      ],
      "execution_count": 159,
      "outputs": [
        {
          "output_type": "execute_result",
          "data": {
            "text/plain": [
              "(1885, 32)"
            ]
          },
          "metadata": {
            "tags": []
          },
          "execution_count": 159
        }
      ]
    },
    {
      "cell_type": "markdown",
      "metadata": {
        "id": "zxg2xJT8GCsd",
        "colab_type": "text"
      },
      "source": [
        "It was mentioned in the data description that the study took responses from 1886 participants, and we can verify that by looking at the shape of dataframe. It has 1885 rows, as expected."
      ]
    },
    {
      "cell_type": "code",
      "metadata": {
        "id": "r1G8kHMHDAV3",
        "colab_type": "code",
        "outputId": "9d662bf4-fbee-4395-fdfc-36666cfdb892",
        "colab": {
          "base_uri": "https://localhost:8080/",
          "height": 693
        }
      },
      "source": [
        "#Checking for null values in the data and observing column data types\n",
        "df_raw.info()"
      ],
      "execution_count": 160,
      "outputs": [
        {
          "output_type": "stream",
          "text": [
            "<class 'pandas.core.frame.DataFrame'>\n",
            "RangeIndex: 1885 entries, 0 to 1884\n",
            "Data columns (total 32 columns):\n",
            " #   Column  Non-Null Count  Dtype  \n",
            "---  ------  --------------  -----  \n",
            " 0   0       1885 non-null   int64  \n",
            " 1   1       1885 non-null   float64\n",
            " 2   2       1885 non-null   float64\n",
            " 3   3       1885 non-null   float64\n",
            " 4   4       1885 non-null   float64\n",
            " 5   5       1885 non-null   float64\n",
            " 6   6       1885 non-null   float64\n",
            " 7   7       1885 non-null   float64\n",
            " 8   8       1885 non-null   float64\n",
            " 9   9       1885 non-null   float64\n",
            " 10  10      1885 non-null   float64\n",
            " 11  11      1885 non-null   float64\n",
            " 12  12      1885 non-null   float64\n",
            " 13  13      1885 non-null   object \n",
            " 14  14      1885 non-null   object \n",
            " 15  15      1885 non-null   object \n",
            " 16  16      1885 non-null   object \n",
            " 17  17      1885 non-null   object \n",
            " 18  18      1885 non-null   object \n",
            " 19  19      1885 non-null   object \n",
            " 20  20      1885 non-null   object \n",
            " 21  21      1885 non-null   object \n",
            " 22  22      1885 non-null   object \n",
            " 23  23      1885 non-null   object \n",
            " 24  24      1885 non-null   object \n",
            " 25  25      1885 non-null   object \n",
            " 26  26      1885 non-null   object \n",
            " 27  27      1885 non-null   object \n",
            " 28  28      1885 non-null   object \n",
            " 29  29      1885 non-null   object \n",
            " 30  30      1885 non-null   object \n",
            " 31  31      1885 non-null   object \n",
            "dtypes: float64(12), int64(1), object(19)\n",
            "memory usage: 471.4+ KB\n"
          ],
          "name": "stdout"
        }
      ]
    },
    {
      "cell_type": "markdown",
      "metadata": {
        "id": "SH9iOjlyFB3h",
        "colab_type": "text"
      },
      "source": [
        "As we can see the non-null count for every column is same the row count of the dataframe so we can conclude that there is no null values in the data. As a result we need not handle the null values."
      ]
    },
    {
      "cell_type": "code",
      "metadata": {
        "id": "AEOGWvXpEOot",
        "colab_type": "code",
        "colab": {}
      },
      "source": [
        "#I would be taking x number of columns for my final project\n",
        "df = df_raw[[1,2,3,4,5,13,17,18,19,20,21,23,26,28,29]]"
      ],
      "execution_count": 0,
      "outputs": []
    },
    {
      "cell_type": "markdown",
      "metadata": {
        "id": "CHfh6SJ5FrHf",
        "colab_type": "text"
      },
      "source": [
        "As proposed on Moodle, I would be using only a subset of attributes provided in the original data. I would be using some attributes of participants of the study, which will be Age, Gender, Education Level, Country,and Ethnicity. I would be taking some of the common drugs which are used like Alcohol, Caffeine, Cannabis, Cocaine etc"
      ]
    },
    {
      "cell_type": "code",
      "metadata": {
        "id": "_fMQtRaDKND6",
        "colab_type": "code",
        "colab": {}
      },
      "source": [
        "#Making an header list as DataFrame has no headers\n",
        "header_list = ['Age','Gender','Education','Country','Ethnicity','Alcohol','Caffeine','Cannabis','Chocolate','Cocaine','Crack','Heroin','LSD','Mushroom','Nicotine']"
      ],
      "execution_count": 0,
      "outputs": []
    },
    {
      "cell_type": "code",
      "metadata": {
        "id": "BcOH_QHPHFOV",
        "colab_type": "code",
        "colab": {}
      },
      "source": [
        "#Assigning header names\n",
        "df.columns = header_list"
      ],
      "execution_count": 0,
      "outputs": []
    },
    {
      "cell_type": "code",
      "metadata": {
        "id": "r-GLEiz9MPlu",
        "colab_type": "code",
        "outputId": "e6315d00-10a5-4b02-f1ea-9bdcb8687f47",
        "colab": {
          "base_uri": "https://localhost:8080/",
          "height": 87
        }
      },
      "source": [
        "df.columns"
      ],
      "execution_count": 164,
      "outputs": [
        {
          "output_type": "execute_result",
          "data": {
            "text/plain": [
              "Index(['Age', 'Gender', 'Education', 'Country', 'Ethnicity', 'Alcohol',\n",
              "       'Caffeine', 'Cannabis', 'Chocolate', 'Cocaine', 'Crack', 'Heroin',\n",
              "       'LSD', 'Mushroom', 'Nicotine'],\n",
              "      dtype='object')"
            ]
          },
          "metadata": {
            "tags": []
          },
          "execution_count": 164
        }
      ]
    },
    {
      "cell_type": "code",
      "metadata": {
        "id": "M35-oHrSMuCT",
        "colab_type": "code",
        "outputId": "42d9dd0b-0a43-44d7-feb6-4adb9a3dd240",
        "colab": {
          "base_uri": "https://localhost:8080/",
          "height": 295
        }
      },
      "source": [
        "#Taking a look on data types of the columns\n",
        "df.dtypes"
      ],
      "execution_count": 165,
      "outputs": [
        {
          "output_type": "execute_result",
          "data": {
            "text/plain": [
              "Age          float64\n",
              "Gender       float64\n",
              "Education    float64\n",
              "Country      float64\n",
              "Ethnicity    float64\n",
              "Alcohol       object\n",
              "Caffeine      object\n",
              "Cannabis      object\n",
              "Chocolate     object\n",
              "Cocaine       object\n",
              "Crack         object\n",
              "Heroin        object\n",
              "LSD           object\n",
              "Mushroom      object\n",
              "Nicotine      object\n",
              "dtype: object"
            ]
          },
          "metadata": {
            "tags": []
          },
          "execution_count": 165
        }
      ]
    },
    {
      "cell_type": "code",
      "metadata": {
        "id": "MenvQaEXHeCb",
        "colab_type": "code",
        "outputId": "f9e640c8-7768-41bd-c1dd-58c5df8c7c3e",
        "colab": {
          "base_uri": "https://localhost:8080/",
          "height": 435
        }
      },
      "source": [
        "df"
      ],
      "execution_count": 166,
      "outputs": [
        {
          "output_type": "execute_result",
          "data": {
            "text/html": [
              "<div>\n",
              "<style scoped>\n",
              "    .dataframe tbody tr th:only-of-type {\n",
              "        vertical-align: middle;\n",
              "    }\n",
              "\n",
              "    .dataframe tbody tr th {\n",
              "        vertical-align: top;\n",
              "    }\n",
              "\n",
              "    .dataframe thead th {\n",
              "        text-align: right;\n",
              "    }\n",
              "</style>\n",
              "<table border=\"1\" class=\"dataframe\">\n",
              "  <thead>\n",
              "    <tr style=\"text-align: right;\">\n",
              "      <th></th>\n",
              "      <th>Age</th>\n",
              "      <th>Gender</th>\n",
              "      <th>Education</th>\n",
              "      <th>Country</th>\n",
              "      <th>Ethnicity</th>\n",
              "      <th>Alcohol</th>\n",
              "      <th>Caffeine</th>\n",
              "      <th>Cannabis</th>\n",
              "      <th>Chocolate</th>\n",
              "      <th>Cocaine</th>\n",
              "      <th>Crack</th>\n",
              "      <th>Heroin</th>\n",
              "      <th>LSD</th>\n",
              "      <th>Mushroom</th>\n",
              "      <th>Nicotine</th>\n",
              "    </tr>\n",
              "  </thead>\n",
              "  <tbody>\n",
              "    <tr>\n",
              "      <th>0</th>\n",
              "      <td>0.49788</td>\n",
              "      <td>0.48246</td>\n",
              "      <td>-0.05921</td>\n",
              "      <td>0.96082</td>\n",
              "      <td>0.12600</td>\n",
              "      <td>CL5</td>\n",
              "      <td>CL6</td>\n",
              "      <td>CL0</td>\n",
              "      <td>CL5</td>\n",
              "      <td>CL0</td>\n",
              "      <td>CL0</td>\n",
              "      <td>CL0</td>\n",
              "      <td>CL0</td>\n",
              "      <td>CL0</td>\n",
              "      <td>CL2</td>\n",
              "    </tr>\n",
              "    <tr>\n",
              "      <th>1</th>\n",
              "      <td>-0.07854</td>\n",
              "      <td>-0.48246</td>\n",
              "      <td>1.98437</td>\n",
              "      <td>0.96082</td>\n",
              "      <td>-0.31685</td>\n",
              "      <td>CL5</td>\n",
              "      <td>CL6</td>\n",
              "      <td>CL4</td>\n",
              "      <td>CL6</td>\n",
              "      <td>CL3</td>\n",
              "      <td>CL0</td>\n",
              "      <td>CL0</td>\n",
              "      <td>CL2</td>\n",
              "      <td>CL0</td>\n",
              "      <td>CL4</td>\n",
              "    </tr>\n",
              "    <tr>\n",
              "      <th>2</th>\n",
              "      <td>0.49788</td>\n",
              "      <td>-0.48246</td>\n",
              "      <td>-0.05921</td>\n",
              "      <td>0.96082</td>\n",
              "      <td>-0.31685</td>\n",
              "      <td>CL6</td>\n",
              "      <td>CL6</td>\n",
              "      <td>CL3</td>\n",
              "      <td>CL4</td>\n",
              "      <td>CL0</td>\n",
              "      <td>CL0</td>\n",
              "      <td>CL0</td>\n",
              "      <td>CL0</td>\n",
              "      <td>CL1</td>\n",
              "      <td>CL0</td>\n",
              "    </tr>\n",
              "    <tr>\n",
              "      <th>3</th>\n",
              "      <td>-0.95197</td>\n",
              "      <td>0.48246</td>\n",
              "      <td>1.16365</td>\n",
              "      <td>0.96082</td>\n",
              "      <td>-0.31685</td>\n",
              "      <td>CL4</td>\n",
              "      <td>CL5</td>\n",
              "      <td>CL2</td>\n",
              "      <td>CL4</td>\n",
              "      <td>CL2</td>\n",
              "      <td>CL0</td>\n",
              "      <td>CL0</td>\n",
              "      <td>CL0</td>\n",
              "      <td>CL0</td>\n",
              "      <td>CL2</td>\n",
              "    </tr>\n",
              "    <tr>\n",
              "      <th>4</th>\n",
              "      <td>0.49788</td>\n",
              "      <td>0.48246</td>\n",
              "      <td>1.98437</td>\n",
              "      <td>0.96082</td>\n",
              "      <td>-0.31685</td>\n",
              "      <td>CL4</td>\n",
              "      <td>CL6</td>\n",
              "      <td>CL3</td>\n",
              "      <td>CL6</td>\n",
              "      <td>CL0</td>\n",
              "      <td>CL0</td>\n",
              "      <td>CL0</td>\n",
              "      <td>CL0</td>\n",
              "      <td>CL2</td>\n",
              "      <td>CL2</td>\n",
              "    </tr>\n",
              "    <tr>\n",
              "      <th>...</th>\n",
              "      <td>...</td>\n",
              "      <td>...</td>\n",
              "      <td>...</td>\n",
              "      <td>...</td>\n",
              "      <td>...</td>\n",
              "      <td>...</td>\n",
              "      <td>...</td>\n",
              "      <td>...</td>\n",
              "      <td>...</td>\n",
              "      <td>...</td>\n",
              "      <td>...</td>\n",
              "      <td>...</td>\n",
              "      <td>...</td>\n",
              "      <td>...</td>\n",
              "      <td>...</td>\n",
              "    </tr>\n",
              "    <tr>\n",
              "      <th>1880</th>\n",
              "      <td>-0.95197</td>\n",
              "      <td>0.48246</td>\n",
              "      <td>-0.61113</td>\n",
              "      <td>-0.57009</td>\n",
              "      <td>-0.31685</td>\n",
              "      <td>CL5</td>\n",
              "      <td>CL4</td>\n",
              "      <td>CL5</td>\n",
              "      <td>CL4</td>\n",
              "      <td>CL0</td>\n",
              "      <td>CL0</td>\n",
              "      <td>CL0</td>\n",
              "      <td>CL3</td>\n",
              "      <td>CL0</td>\n",
              "      <td>CL0</td>\n",
              "    </tr>\n",
              "    <tr>\n",
              "      <th>1881</th>\n",
              "      <td>-0.95197</td>\n",
              "      <td>-0.48246</td>\n",
              "      <td>-0.61113</td>\n",
              "      <td>-0.57009</td>\n",
              "      <td>-0.31685</td>\n",
              "      <td>CL5</td>\n",
              "      <td>CL5</td>\n",
              "      <td>CL3</td>\n",
              "      <td>CL4</td>\n",
              "      <td>CL0</td>\n",
              "      <td>CL0</td>\n",
              "      <td>CL0</td>\n",
              "      <td>CL5</td>\n",
              "      <td>CL4</td>\n",
              "      <td>CL5</td>\n",
              "    </tr>\n",
              "    <tr>\n",
              "      <th>1882</th>\n",
              "      <td>-0.07854</td>\n",
              "      <td>0.48246</td>\n",
              "      <td>0.45468</td>\n",
              "      <td>-0.57009</td>\n",
              "      <td>-0.31685</td>\n",
              "      <td>CL4</td>\n",
              "      <td>CL6</td>\n",
              "      <td>CL6</td>\n",
              "      <td>CL6</td>\n",
              "      <td>CL4</td>\n",
              "      <td>CL0</td>\n",
              "      <td>CL0</td>\n",
              "      <td>CL2</td>\n",
              "      <td>CL2</td>\n",
              "      <td>CL6</td>\n",
              "    </tr>\n",
              "    <tr>\n",
              "      <th>1883</th>\n",
              "      <td>-0.95197</td>\n",
              "      <td>0.48246</td>\n",
              "      <td>-0.61113</td>\n",
              "      <td>-0.57009</td>\n",
              "      <td>-0.31685</td>\n",
              "      <td>CL5</td>\n",
              "      <td>CL6</td>\n",
              "      <td>CL6</td>\n",
              "      <td>CL5</td>\n",
              "      <td>CL0</td>\n",
              "      <td>CL0</td>\n",
              "      <td>CL0</td>\n",
              "      <td>CL3</td>\n",
              "      <td>CL3</td>\n",
              "      <td>CL4</td>\n",
              "    </tr>\n",
              "    <tr>\n",
              "      <th>1884</th>\n",
              "      <td>-0.95197</td>\n",
              "      <td>-0.48246</td>\n",
              "      <td>-0.61113</td>\n",
              "      <td>0.21128</td>\n",
              "      <td>-0.31685</td>\n",
              "      <td>CL4</td>\n",
              "      <td>CL6</td>\n",
              "      <td>CL3</td>\n",
              "      <td>CL6</td>\n",
              "      <td>CL3</td>\n",
              "      <td>CL0</td>\n",
              "      <td>CL0</td>\n",
              "      <td>CL3</td>\n",
              "      <td>CL3</td>\n",
              "      <td>CL6</td>\n",
              "    </tr>\n",
              "  </tbody>\n",
              "</table>\n",
              "<p>1885 rows × 15 columns</p>\n",
              "</div>"
            ],
            "text/plain": [
              "          Age   Gender  Education  Country  ...  Heroin  LSD Mushroom Nicotine\n",
              "0     0.49788  0.48246   -0.05921  0.96082  ...     CL0  CL0      CL0      CL2\n",
              "1    -0.07854 -0.48246    1.98437  0.96082  ...     CL0  CL2      CL0      CL4\n",
              "2     0.49788 -0.48246   -0.05921  0.96082  ...     CL0  CL0      CL1      CL0\n",
              "3    -0.95197  0.48246    1.16365  0.96082  ...     CL0  CL0      CL0      CL2\n",
              "4     0.49788  0.48246    1.98437  0.96082  ...     CL0  CL0      CL2      CL2\n",
              "...       ...      ...        ...      ...  ...     ...  ...      ...      ...\n",
              "1880 -0.95197  0.48246   -0.61113 -0.57009  ...     CL0  CL3      CL0      CL0\n",
              "1881 -0.95197 -0.48246   -0.61113 -0.57009  ...     CL0  CL5      CL4      CL5\n",
              "1882 -0.07854  0.48246    0.45468 -0.57009  ...     CL0  CL2      CL2      CL6\n",
              "1883 -0.95197  0.48246   -0.61113 -0.57009  ...     CL0  CL3      CL3      CL4\n",
              "1884 -0.95197 -0.48246   -0.61113  0.21128  ...     CL0  CL3      CL3      CL6\n",
              "\n",
              "[1885 rows x 15 columns]"
            ]
          },
          "metadata": {
            "tags": []
          },
          "execution_count": 166
        }
      ]
    },
    {
      "cell_type": "markdown",
      "metadata": {
        "id": "1CUDrSGRHuOt",
        "colab_type": "text"
      },
      "source": [
        "This is the final dataframe, which I would be working on. But the values of columns in this dataframe doesn't make much sense. This is because we have to replace these values by categories which is mentioned in the data source."
      ]
    },
    {
      "cell_type": "code",
      "metadata": {
        "id": "kUVMIITh-kQm",
        "colab_type": "code",
        "colab": {}
      },
      "source": [
        "def to_str(column_name):\n",
        "  df[column_name] = df[column_name].astype(str)\n",
        "pd.options.mode.chained_assignment = None\n",
        "for x in ['Age','Gender','Ethnicity','Education','Country']:\n",
        "  to_str(x)"
      ],
      "execution_count": 0,
      "outputs": []
    },
    {
      "cell_type": "code",
      "metadata": {
        "id": "0VzMtFSx_MFG",
        "colab_type": "code",
        "outputId": "23c9db89-082a-455e-cd76-1438c972e91a",
        "colab": {
          "base_uri": "https://localhost:8080/",
          "height": 295
        }
      },
      "source": [
        "df.dtypes"
      ],
      "execution_count": 168,
      "outputs": [
        {
          "output_type": "execute_result",
          "data": {
            "text/plain": [
              "Age          object\n",
              "Gender       object\n",
              "Education    object\n",
              "Country      object\n",
              "Ethnicity    object\n",
              "Alcohol      object\n",
              "Caffeine     object\n",
              "Cannabis     object\n",
              "Chocolate    object\n",
              "Cocaine      object\n",
              "Crack        object\n",
              "Heroin       object\n",
              "LSD          object\n",
              "Mushroom     object\n",
              "Nicotine     object\n",
              "dtype: object"
            ]
          },
          "metadata": {
            "tags": []
          },
          "execution_count": 168
        }
      ]
    },
    {
      "cell_type": "markdown",
      "metadata": {
        "id": "x-b4ogWqIcNp",
        "colab_type": "text"
      },
      "source": [
        "We earlier saw the data types of all the columns, here we would convert the columns of float datatype into string datatype"
      ]
    },
    {
      "cell_type": "code",
      "metadata": {
        "id": "Yj4SHgNXwXRA",
        "colab_type": "code",
        "colab": {}
      },
      "source": [
        "#Defining dictionaries which will be used in replace function\n",
        "age_dict = {'-0.9519700000000001':'18-24','-0.07854':'25-34','0.49788000000000004':'35-44','1.09449':'45-54','1.82213':'55-64','2.59171':'65+'}\n",
        "gender_dict = {'0.48246000000000006':'Female','-0.48246000000000006':'Male'}\n",
        "education_dict = {'-0.059210000000000006':'Professional Certificate/Diploma', '1.98437':'Doctrate Degree', '1.16365':\"Master's Degree\", '-1.22751':'Left school at 18',\n",
        "       '-1.7379':'Left school at 16 years', '0.45468000000000003':'University degree', '-0.6111300000000001':'Enrolled in University/College',\n",
        "       '-2.43591': 'Left school before 16 years', '-1.43719':' Left school at 17 years'}\n",
        "country_dict = {'0.9608200000000001':'United Kingdom', '0.24923':'Canada', '-0.57009':'United States', '-0.28519':'Other',\n",
        "       '-0.09765':'Australia', '0.21128000000000002':'Ireland', '-0.46841000000000005':'New Zealand'}\n",
        "ethnicity_dict = {'0.126':'Mixed-White/Asian', '-0.31685':'White', '0.1144':'Other', '-0.22166':'Mixed-White/Black', '-0.50212':'Asian','-1.1070200000000001':'Black', '1.90725':' Mixed-Black/Asian'}\n",
        "drug_dict = {'CL0':'Never Used', 'CL2':'Used in Last Decade', 'CL1':'Used over a Decade Ago', 'CL3':'Used in Last Year', 'CL4':'Used in Last Month', 'CL5':'Used in Last Week', 'CL6':'Used in Last Day'}"
      ],
      "execution_count": 0,
      "outputs": []
    },
    {
      "cell_type": "code",
      "metadata": {
        "id": "rxTm72MtxEvZ",
        "colab_type": "code",
        "colab": {}
      },
      "source": [
        "#Replacing the orignal values of the dataframe by values in the dictionaries\n",
        "\n",
        "def replace_val(column_name,dict_name):\n",
        "  df[column_name].replace(dict_name, inplace = True)\n",
        "\n",
        "pd.options.mode.chained_assignment = None\n",
        "\n",
        "for x,y in zip(['Age','Gender','Country','Ethnicity','Education'],[age_dict,gender_dict,country_dict,ethnicity_dict,education_dict]):\n",
        "  replace_val(x,y)\n",
        "\n",
        "for x in ['Alcohol','Caffeine','Cannabis','Chocolate','Cocaine','Crack','Heroin','LSD','Mushroom','Nicotine']:\n",
        "  replace_val(x,dict_name=drug_dict)\n"
      ],
      "execution_count": 0,
      "outputs": []
    },
    {
      "cell_type": "code",
      "metadata": {
        "id": "QEk5Ti13I4E-",
        "colab_type": "code",
        "outputId": "ee3ab2f3-d47c-4e58-baee-ed556f86a925",
        "colab": {
          "base_uri": "https://localhost:8080/",
          "height": 799
        }
      },
      "source": [
        "df"
      ],
      "execution_count": 171,
      "outputs": [
        {
          "output_type": "execute_result",
          "data": {
            "text/html": [
              "<div>\n",
              "<style scoped>\n",
              "    .dataframe tbody tr th:only-of-type {\n",
              "        vertical-align: middle;\n",
              "    }\n",
              "\n",
              "    .dataframe tbody tr th {\n",
              "        vertical-align: top;\n",
              "    }\n",
              "\n",
              "    .dataframe thead th {\n",
              "        text-align: right;\n",
              "    }\n",
              "</style>\n",
              "<table border=\"1\" class=\"dataframe\">\n",
              "  <thead>\n",
              "    <tr style=\"text-align: right;\">\n",
              "      <th></th>\n",
              "      <th>Age</th>\n",
              "      <th>Gender</th>\n",
              "      <th>Education</th>\n",
              "      <th>Country</th>\n",
              "      <th>Ethnicity</th>\n",
              "      <th>Alcohol</th>\n",
              "      <th>Caffeine</th>\n",
              "      <th>Cannabis</th>\n",
              "      <th>Chocolate</th>\n",
              "      <th>Cocaine</th>\n",
              "      <th>Crack</th>\n",
              "      <th>Heroin</th>\n",
              "      <th>LSD</th>\n",
              "      <th>Mushroom</th>\n",
              "      <th>Nicotine</th>\n",
              "    </tr>\n",
              "  </thead>\n",
              "  <tbody>\n",
              "    <tr>\n",
              "      <th>0</th>\n",
              "      <td>35-44</td>\n",
              "      <td>Female</td>\n",
              "      <td>Professional Certificate/Diploma</td>\n",
              "      <td>United Kingdom</td>\n",
              "      <td>Mixed-White/Asian</td>\n",
              "      <td>Used in Last Week</td>\n",
              "      <td>Used in Last Day</td>\n",
              "      <td>Never Used</td>\n",
              "      <td>Used in Last Week</td>\n",
              "      <td>Never Used</td>\n",
              "      <td>Never Used</td>\n",
              "      <td>Never Used</td>\n",
              "      <td>Never Used</td>\n",
              "      <td>Never Used</td>\n",
              "      <td>Used in Last Decade</td>\n",
              "    </tr>\n",
              "    <tr>\n",
              "      <th>1</th>\n",
              "      <td>25-34</td>\n",
              "      <td>Male</td>\n",
              "      <td>Doctrate Degree</td>\n",
              "      <td>United Kingdom</td>\n",
              "      <td>White</td>\n",
              "      <td>Used in Last Week</td>\n",
              "      <td>Used in Last Day</td>\n",
              "      <td>Used in Last Month</td>\n",
              "      <td>Used in Last Day</td>\n",
              "      <td>Used in Last Year</td>\n",
              "      <td>Never Used</td>\n",
              "      <td>Never Used</td>\n",
              "      <td>Used in Last Decade</td>\n",
              "      <td>Never Used</td>\n",
              "      <td>Used in Last Month</td>\n",
              "    </tr>\n",
              "    <tr>\n",
              "      <th>2</th>\n",
              "      <td>35-44</td>\n",
              "      <td>Male</td>\n",
              "      <td>Professional Certificate/Diploma</td>\n",
              "      <td>United Kingdom</td>\n",
              "      <td>White</td>\n",
              "      <td>Used in Last Day</td>\n",
              "      <td>Used in Last Day</td>\n",
              "      <td>Used in Last Year</td>\n",
              "      <td>Used in Last Month</td>\n",
              "      <td>Never Used</td>\n",
              "      <td>Never Used</td>\n",
              "      <td>Never Used</td>\n",
              "      <td>Never Used</td>\n",
              "      <td>Used over a Decade Ago</td>\n",
              "      <td>Never Used</td>\n",
              "    </tr>\n",
              "    <tr>\n",
              "      <th>3</th>\n",
              "      <td>18-24</td>\n",
              "      <td>Female</td>\n",
              "      <td>Master's Degree</td>\n",
              "      <td>United Kingdom</td>\n",
              "      <td>White</td>\n",
              "      <td>Used in Last Month</td>\n",
              "      <td>Used in Last Week</td>\n",
              "      <td>Used in Last Decade</td>\n",
              "      <td>Used in Last Month</td>\n",
              "      <td>Used in Last Decade</td>\n",
              "      <td>Never Used</td>\n",
              "      <td>Never Used</td>\n",
              "      <td>Never Used</td>\n",
              "      <td>Never Used</td>\n",
              "      <td>Used in Last Decade</td>\n",
              "    </tr>\n",
              "    <tr>\n",
              "      <th>4</th>\n",
              "      <td>35-44</td>\n",
              "      <td>Female</td>\n",
              "      <td>Doctrate Degree</td>\n",
              "      <td>United Kingdom</td>\n",
              "      <td>White</td>\n",
              "      <td>Used in Last Month</td>\n",
              "      <td>Used in Last Day</td>\n",
              "      <td>Used in Last Year</td>\n",
              "      <td>Used in Last Day</td>\n",
              "      <td>Never Used</td>\n",
              "      <td>Never Used</td>\n",
              "      <td>Never Used</td>\n",
              "      <td>Never Used</td>\n",
              "      <td>Used in Last Decade</td>\n",
              "      <td>Used in Last Decade</td>\n",
              "    </tr>\n",
              "    <tr>\n",
              "      <th>...</th>\n",
              "      <td>...</td>\n",
              "      <td>...</td>\n",
              "      <td>...</td>\n",
              "      <td>...</td>\n",
              "      <td>...</td>\n",
              "      <td>...</td>\n",
              "      <td>...</td>\n",
              "      <td>...</td>\n",
              "      <td>...</td>\n",
              "      <td>...</td>\n",
              "      <td>...</td>\n",
              "      <td>...</td>\n",
              "      <td>...</td>\n",
              "      <td>...</td>\n",
              "      <td>...</td>\n",
              "    </tr>\n",
              "    <tr>\n",
              "      <th>1880</th>\n",
              "      <td>18-24</td>\n",
              "      <td>Female</td>\n",
              "      <td>Enrolled in University/College</td>\n",
              "      <td>United States</td>\n",
              "      <td>White</td>\n",
              "      <td>Used in Last Week</td>\n",
              "      <td>Used in Last Month</td>\n",
              "      <td>Used in Last Week</td>\n",
              "      <td>Used in Last Month</td>\n",
              "      <td>Never Used</td>\n",
              "      <td>Never Used</td>\n",
              "      <td>Never Used</td>\n",
              "      <td>Used in Last Year</td>\n",
              "      <td>Never Used</td>\n",
              "      <td>Never Used</td>\n",
              "    </tr>\n",
              "    <tr>\n",
              "      <th>1881</th>\n",
              "      <td>18-24</td>\n",
              "      <td>Male</td>\n",
              "      <td>Enrolled in University/College</td>\n",
              "      <td>United States</td>\n",
              "      <td>White</td>\n",
              "      <td>Used in Last Week</td>\n",
              "      <td>Used in Last Week</td>\n",
              "      <td>Used in Last Year</td>\n",
              "      <td>Used in Last Month</td>\n",
              "      <td>Never Used</td>\n",
              "      <td>Never Used</td>\n",
              "      <td>Never Used</td>\n",
              "      <td>Used in Last Week</td>\n",
              "      <td>Used in Last Month</td>\n",
              "      <td>Used in Last Week</td>\n",
              "    </tr>\n",
              "    <tr>\n",
              "      <th>1882</th>\n",
              "      <td>25-34</td>\n",
              "      <td>Female</td>\n",
              "      <td>University degree</td>\n",
              "      <td>United States</td>\n",
              "      <td>White</td>\n",
              "      <td>Used in Last Month</td>\n",
              "      <td>Used in Last Day</td>\n",
              "      <td>Used in Last Day</td>\n",
              "      <td>Used in Last Day</td>\n",
              "      <td>Used in Last Month</td>\n",
              "      <td>Never Used</td>\n",
              "      <td>Never Used</td>\n",
              "      <td>Used in Last Decade</td>\n",
              "      <td>Used in Last Decade</td>\n",
              "      <td>Used in Last Day</td>\n",
              "    </tr>\n",
              "    <tr>\n",
              "      <th>1883</th>\n",
              "      <td>18-24</td>\n",
              "      <td>Female</td>\n",
              "      <td>Enrolled in University/College</td>\n",
              "      <td>United States</td>\n",
              "      <td>White</td>\n",
              "      <td>Used in Last Week</td>\n",
              "      <td>Used in Last Day</td>\n",
              "      <td>Used in Last Day</td>\n",
              "      <td>Used in Last Week</td>\n",
              "      <td>Never Used</td>\n",
              "      <td>Never Used</td>\n",
              "      <td>Never Used</td>\n",
              "      <td>Used in Last Year</td>\n",
              "      <td>Used in Last Year</td>\n",
              "      <td>Used in Last Month</td>\n",
              "    </tr>\n",
              "    <tr>\n",
              "      <th>1884</th>\n",
              "      <td>18-24</td>\n",
              "      <td>Male</td>\n",
              "      <td>Enrolled in University/College</td>\n",
              "      <td>Ireland</td>\n",
              "      <td>White</td>\n",
              "      <td>Used in Last Month</td>\n",
              "      <td>Used in Last Day</td>\n",
              "      <td>Used in Last Year</td>\n",
              "      <td>Used in Last Day</td>\n",
              "      <td>Used in Last Year</td>\n",
              "      <td>Never Used</td>\n",
              "      <td>Never Used</td>\n",
              "      <td>Used in Last Year</td>\n",
              "      <td>Used in Last Year</td>\n",
              "      <td>Used in Last Day</td>\n",
              "    </tr>\n",
              "  </tbody>\n",
              "</table>\n",
              "<p>1885 rows × 15 columns</p>\n",
              "</div>"
            ],
            "text/plain": [
              "        Age  Gender  ...                Mushroom             Nicotine\n",
              "0     35-44  Female  ...              Never Used  Used in Last Decade\n",
              "1     25-34    Male  ...              Never Used   Used in Last Month\n",
              "2     35-44    Male  ...  Used over a Decade Ago           Never Used\n",
              "3     18-24  Female  ...              Never Used  Used in Last Decade\n",
              "4     35-44  Female  ...     Used in Last Decade  Used in Last Decade\n",
              "...     ...     ...  ...                     ...                  ...\n",
              "1880  18-24  Female  ...              Never Used           Never Used\n",
              "1881  18-24    Male  ...      Used in Last Month    Used in Last Week\n",
              "1882  25-34  Female  ...     Used in Last Decade     Used in Last Day\n",
              "1883  18-24  Female  ...       Used in Last Year   Used in Last Month\n",
              "1884  18-24    Male  ...       Used in Last Year     Used in Last Day\n",
              "\n",
              "[1885 rows x 15 columns]"
            ]
          },
          "metadata": {
            "tags": []
          },
          "execution_count": 171
        }
      ]
    },
    {
      "cell_type": "markdown",
      "metadata": {
        "id": "aOB9uXc-_TMg",
        "colab_type": "text"
      },
      "source": [
        "## Population classification according to different attributes"
      ]
    },
    {
      "cell_type": "code",
      "metadata": {
        "id": "ruKTfloLQvWS",
        "colab_type": "code",
        "colab": {}
      },
      "source": [
        "#Defining a function which returns value counts for dataframe column\n",
        "\n",
        "def value_percentage(dataframe,column_name):\n",
        "  return dataframe[column_name].value_counts(normalize = True)\n"
      ],
      "execution_count": 0,
      "outputs": []
    },
    {
      "cell_type": "code",
      "metadata": {
        "id": "oWMuNLLPMReI",
        "colab_type": "code",
        "colab": {}
      },
      "source": [
        "#Defining a function which returns a pie chart value counts for dataframe column\n",
        "\n",
        "def value_percentage_chart(dataframe,column_name):\n",
        "  dataframe[column_name].value_counts(normalize = True).plot.pie(figsize=(8, 8),autopct='%1.1f%%')"
      ],
      "execution_count": 0,
      "outputs": []
    },
    {
      "cell_type": "code",
      "metadata": {
        "id": "aTCeZFCGNTO5",
        "colab_type": "code",
        "outputId": "8cb2f749-b425-4790-da9f-616ec6c500ad",
        "colab": {
          "base_uri": "https://localhost:8080/",
          "height": 191
        }
      },
      "source": [
        "value_percentage(df,'Education')"
      ],
      "execution_count": 227,
      "outputs": [
        {
          "output_type": "execute_result",
          "data": {
            "text/plain": [
              "Enrolled in University/College      0.268435\n",
              "University degree                   0.254642\n",
              "Master's Degree                     0.150133\n",
              "Professional Certificate/Diploma    0.143236\n",
              "Left school at 18                   0.053050\n",
              "Left school at 16 years             0.052520\n",
              "Doctrate Degree                     0.047215\n",
              " Left school at 17 years            0.015915\n",
              "Left school before 16 years         0.014854\n",
              "Name: Education, dtype: float64"
            ]
          },
          "metadata": {
            "tags": []
          },
          "execution_count": 227
        }
      ]
    },
    {
      "cell_type": "code",
      "metadata": {
        "id": "AUSaUDKQQkNL",
        "colab_type": "code",
        "outputId": "ec7c52bf-7f9d-4649-c451-8d40d3aba36c",
        "colab": {
          "base_uri": "https://localhost:8080/",
          "height": 466
        }
      },
      "source": [
        "value_percentage_chart(df,'Country')"
      ],
      "execution_count": 228,
      "outputs": [
        {
          "output_type": "display_data",
          "data": {
            "image/png": "[encoded data removed]",
            "text/plain": [
              "<Figure size 576x576 with 1 Axes>"
            ]
          },
          "metadata": {
            "tags": []
          }
        }
      ]
    },
    {
      "cell_type": "markdown",
      "metadata": {
        "id": "HF396BNuMhS-",
        "colab_type": "text"
      },
      "source": [
        "From this pie chart we can see that more than half of the respondents are form the United Kingdom which makes sense as the data was donated by the Professors working in the University of Nottingham."
      ]
    },
    {
      "cell_type": "code",
      "metadata": {
        "id": "lidgrwJ8Qppc",
        "colab_type": "code",
        "outputId": "22577440-0b98-4be7-a8e3-8035ba340cef",
        "colab": {
          "base_uri": "https://localhost:8080/",
          "height": 466
        }
      },
      "source": [
        "value_percentage_chart(df,'Education')"
      ],
      "execution_count": 229,
      "outputs": [
        {
          "output_type": "display_data",
          "data": {
            "image/png": "[encoded data removed]",
            "text/plain": [
              "<Figure size 576x576 with 1 Axes>"
            ]
          },
          "metadata": {
            "tags": []
          }
        }
      ]
    },
    {
      "cell_type": "code",
      "metadata": {
        "id": "wgmhrHAFQvD7",
        "colab_type": "code",
        "outputId": "6afc8654-7cc7-445c-dca9-9846a51ec5a7",
        "colab": {
          "base_uri": "https://localhost:8080/",
          "height": 466
        }
      },
      "source": [
        "value_percentage_chart(df,'Age')"
      ],
      "execution_count": 230,
      "outputs": [
        {
          "output_type": "display_data",
          "data": {
            "image/png": "[encoded data removed]",
            "text/plain": [
              "<Figure size 576x576 with 1 Axes>"
            ]
          },
          "metadata": {
            "tags": []
          }
        }
      ]
    },
    {
      "cell_type": "code",
      "metadata": {
        "id": "1poQJ3eDNB1T",
        "colab_type": "code",
        "outputId": "07efd10e-2950-47eb-8f01-55b30fc2aac8",
        "colab": {
          "base_uri": "https://localhost:8080/",
          "height": 466
        }
      },
      "source": [
        "value_percentage_chart(df,'Gender')"
      ],
      "execution_count": 231,
      "outputs": [
        {
          "output_type": "display_data",
          "data": {
            "image/png": "[encoded data removed]",
            "text/plain": [
              "<Figure size 576x576 with 1 Axes>"
            ]
          },
          "metadata": {
            "tags": []
          }
        }
      ]
    },
    {
      "cell_type": "code",
      "metadata": {
        "id": "YFnaZZxNNHGt",
        "colab_type": "code",
        "outputId": "d9ac4773-8fd8-45f0-c301-d84318220b80",
        "colab": {
          "base_uri": "https://localhost:8080/",
          "height": 466
        }
      },
      "source": [
        "value_percentage_chart(df,'Ethnicity')"
      ],
      "execution_count": 232,
      "outputs": [
        {
          "output_type": "display_data",
          "data": {
            "image/png": "[encoded data removed]",
            "text/plain": [
              "<Figure size 576x576 with 1 Axes>"
            ]
          },
          "metadata": {
            "tags": []
          }
        }
      ]
    },
    {
      "cell_type": "code",
      "metadata": {
        "id": "zd-7qs6LQ1qk",
        "colab_type": "code",
        "colab": {}
      },
      "source": [
        "def count_plot(dataframe,column_name):\n",
        "  ax = sns.countplot(dataframe[column_name])\n",
        "  ax.set_xticklabels(\n",
        "      ax.get_xticklabels(),\n",
        "      rotation=20,\n",
        "      horizontalalignment='right'\n",
        "  )"
      ],
      "execution_count": 0,
      "outputs": []
    },
    {
      "cell_type": "code",
      "metadata": {
        "id": "_5Lfo9NXN0-8",
        "colab_type": "code",
        "outputId": "bc1df8c9-6e81-4c56-ff98-57dd823ccbd6",
        "colab": {
          "base_uri": "https://localhost:8080/",
          "height": 321
        }
      },
      "source": [
        "count_plot(df,'Alcohol')"
      ],
      "execution_count": 234,
      "outputs": [
        {
          "output_type": "display_data",
          "data": {
            "image/png": "[encoded data removed]",
            "text/plain": [
              "<Figure size 432x288 with 1 Axes>"
            ]
          },
          "metadata": {
            "tags": [],
            "needs_background": "light"
          }
        }
      ]
    },
    {
      "cell_type": "code",
      "metadata": {
        "id": "bK3Z1Dy3sLTE",
        "colab_type": "code",
        "colab": {
          "base_uri": "https://localhost:8080/",
          "height": 321
        },
        "outputId": "9f231398-14ba-465b-f55b-1c606e3c2471"
      },
      "source": [
        "count_plot(df,'Nicotine')"
      ],
      "execution_count": 235,
      "outputs": [
        {
          "output_type": "display_data",
          "data": {
            "image/png": "[encoded data removed]",
            "text/plain": [
              "<Figure size 432x288 with 1 Axes>"
            ]
          },
          "metadata": {
            "tags": [],
            "needs_background": "light"
          }
        }
      ]
    },
    {
      "cell_type": "code",
      "metadata": {
        "id": "zW4LBO5PN6Cg",
        "colab_type": "code",
        "outputId": "4de830c7-a763-4b14-dfe3-d13e619023b0",
        "colab": {
          "base_uri": "https://localhost:8080/",
          "height": 321
        }
      },
      "source": [
        "count_plot(df,'Caffeine')"
      ],
      "execution_count": 236,
      "outputs": [
        {
          "output_type": "display_data",
          "data": {
            "image/png": "[encoded data removed]",
            "text/plain": [
              "<Figure size 432x288 with 1 Axes>"
            ]
          },
          "metadata": {
            "tags": [],
            "needs_background": "light"
          }
        }
      ]
    },
    {
      "cell_type": "code",
      "metadata": {
        "id": "OrwQH-QPOAlo",
        "colab_type": "code",
        "outputId": "fa822223-47aa-45c2-a243-76f161d36d2c",
        "colab": {
          "base_uri": "https://localhost:8080/",
          "height": 321
        }
      },
      "source": [
        "count_plot(df,'Chocolate')"
      ],
      "execution_count": 237,
      "outputs": [
        {
          "output_type": "display_data",
          "data": {
            "image/png": "[encoded data removed]",
            "text/plain": [
              "<Figure size 432x288 with 1 Axes>"
            ]
          },
          "metadata": {
            "tags": [],
            "needs_background": "light"
          }
        }
      ]
    },
    {
      "cell_type": "code",
      "metadata": {
        "id": "WEkMr5rcOIaX",
        "colab_type": "code",
        "outputId": "b7f18c00-c1dc-4186-c206-4798f03aeda9",
        "colab": {
          "base_uri": "https://localhost:8080/",
          "height": 321
        }
      },
      "source": [
        "count_plot(df,'Cannabis')"
      ],
      "execution_count": 238,
      "outputs": [
        {
          "output_type": "display_data",
          "data": {
            "image/png": "[encoded data removed]",
            "text/plain": [
              "<Figure size 432x288 with 1 Axes>"
            ]
          },
          "metadata": {
            "tags": [],
            "needs_background": "light"
          }
        }
      ]
    },
    {
      "cell_type": "code",
      "metadata": {
        "id": "oucrh59zONt7",
        "colab_type": "code",
        "outputId": "27e19699-4454-4975-99c5-139926d7918a",
        "colab": {
          "base_uri": "https://localhost:8080/",
          "height": 321
        }
      },
      "source": [
        "count_plot(df,'Cocaine')"
      ],
      "execution_count": 239,
      "outputs": [
        {
          "output_type": "display_data",
          "data": {
            "image/png": "[encoded data removed]",
            "text/plain": [
              "<Figure size 432x288 with 1 Axes>"
            ]
          },
          "metadata": {
            "tags": [],
            "needs_background": "light"
          }
        }
      ]
    },
    {
      "cell_type": "code",
      "metadata": {
        "id": "NquAZ5m1ORLt",
        "colab_type": "code",
        "outputId": "fa6ade74-3793-4f72-da1e-385f4ee32051",
        "colab": {
          "base_uri": "https://localhost:8080/",
          "height": 321
        }
      },
      "source": [
        "count_plot(df,'Crack')"
      ],
      "execution_count": 240,
      "outputs": [
        {
          "output_type": "display_data",
          "data": {
            "image/png": "[encoded data removed]",
            "text/plain": [
              "<Figure size 432x288 with 1 Axes>"
            ]
          },
          "metadata": {
            "tags": [],
            "needs_background": "light"
          }
        }
      ]
    },
    {
      "cell_type": "markdown",
      "metadata": {
        "id": "T_znngrjfgjI",
        "colab_type": "text"
      },
      "source": [
        "From the above histogram we can see that people consume legal drugs such as Alcohol, Caffeine and Chocolate on a more regular basis than they have consumed illegal drugs such as Crack, Cocaine, LSD."
      ]
    },
    {
      "cell_type": "markdown",
      "metadata": {
        "id": "YT6xOzMQrRYX",
        "colab_type": "text"
      },
      "source": [
        "### Hypothesis 1:\n",
        "Is there any positive correlation between Cannabis consumption and consumption of hard drugs, or these two variables are independent of each other?"
      ]
    },
    {
      "cell_type": "code",
      "metadata": {
        "id": "9a8CIjDP0ysG",
        "colab_type": "code",
        "colab": {}
      },
      "source": [
        "#Changing the data type of columns to 'category' in order to find the correlation\n",
        "column_list = df.columns.to_list()\n",
        "df1 = pd.DataFrame()\n",
        "pd.options.mode.chained_assignment = None\n",
        "def category_type(column_name):\n",
        "  df1[column_name] = df[column_name].astype('category').cat.codes\n",
        "\n",
        "for x in column_list:\n",
        "  category_type(x)"
      ],
      "execution_count": 0,
      "outputs": []
    },
    {
      "cell_type": "code",
      "metadata": {
        "id": "1XVDqsESvyQ6",
        "colab_type": "code",
        "outputId": "eee3ebe5-68d6-4174-cef3-4580f51d951b",
        "colab": {
          "base_uri": "https://localhost:8080/",
          "height": 435
        }
      },
      "source": [
        "#Categorical DataFarame\n",
        "df1"
      ],
      "execution_count": 242,
      "outputs": [
        {
          "output_type": "execute_result",
          "data": {
            "text/html": [
              "<div>\n",
              "<style scoped>\n",
              "    .dataframe tbody tr th:only-of-type {\n",
              "        vertical-align: middle;\n",
              "    }\n",
              "\n",
              "    .dataframe tbody tr th {\n",
              "        vertical-align: top;\n",
              "    }\n",
              "\n",
              "    .dataframe thead th {\n",
              "        text-align: right;\n",
              "    }\n",
              "</style>\n",
              "<table border=\"1\" class=\"dataframe\">\n",
              "  <thead>\n",
              "    <tr style=\"text-align: right;\">\n",
              "      <th></th>\n",
              "      <th>Age</th>\n",
              "      <th>Gender</th>\n",
              "      <th>Education</th>\n",
              "      <th>Country</th>\n",
              "      <th>Ethnicity</th>\n",
              "      <th>Alcohol</th>\n",
              "      <th>Caffeine</th>\n",
              "      <th>Cannabis</th>\n",
              "      <th>Chocolate</th>\n",
              "      <th>Cocaine</th>\n",
              "      <th>Crack</th>\n",
              "      <th>Heroin</th>\n",
              "      <th>LSD</th>\n",
              "      <th>Mushroom</th>\n",
              "      <th>Nicotine</th>\n",
              "    </tr>\n",
              "  </thead>\n",
              "  <tbody>\n",
              "    <tr>\n",
              "      <th>0</th>\n",
              "      <td>2</td>\n",
              "      <td>0</td>\n",
              "      <td>7</td>\n",
              "      <td>5</td>\n",
              "      <td>3</td>\n",
              "      <td>4</td>\n",
              "      <td>1</td>\n",
              "      <td>0</td>\n",
              "      <td>4</td>\n",
              "      <td>0</td>\n",
              "      <td>0</td>\n",
              "      <td>0</td>\n",
              "      <td>0</td>\n",
              "      <td>0</td>\n",
              "      <td>2</td>\n",
              "    </tr>\n",
              "    <tr>\n",
              "      <th>1</th>\n",
              "      <td>1</td>\n",
              "      <td>1</td>\n",
              "      <td>1</td>\n",
              "      <td>5</td>\n",
              "      <td>6</td>\n",
              "      <td>4</td>\n",
              "      <td>1</td>\n",
              "      <td>3</td>\n",
              "      <td>1</td>\n",
              "      <td>5</td>\n",
              "      <td>0</td>\n",
              "      <td>0</td>\n",
              "      <td>2</td>\n",
              "      <td>0</td>\n",
              "      <td>3</td>\n",
              "    </tr>\n",
              "    <tr>\n",
              "      <th>2</th>\n",
              "      <td>2</td>\n",
              "      <td>1</td>\n",
              "      <td>7</td>\n",
              "      <td>5</td>\n",
              "      <td>6</td>\n",
              "      <td>1</td>\n",
              "      <td>1</td>\n",
              "      <td>5</td>\n",
              "      <td>3</td>\n",
              "      <td>0</td>\n",
              "      <td>0</td>\n",
              "      <td>0</td>\n",
              "      <td>0</td>\n",
              "      <td>6</td>\n",
              "      <td>0</td>\n",
              "    </tr>\n",
              "    <tr>\n",
              "      <th>3</th>\n",
              "      <td>0</td>\n",
              "      <td>0</td>\n",
              "      <td>6</td>\n",
              "      <td>5</td>\n",
              "      <td>6</td>\n",
              "      <td>3</td>\n",
              "      <td>4</td>\n",
              "      <td>2</td>\n",
              "      <td>3</td>\n",
              "      <td>2</td>\n",
              "      <td>0</td>\n",
              "      <td>0</td>\n",
              "      <td>0</td>\n",
              "      <td>0</td>\n",
              "      <td>2</td>\n",
              "    </tr>\n",
              "    <tr>\n",
              "      <th>4</th>\n",
              "      <td>2</td>\n",
              "      <td>0</td>\n",
              "      <td>1</td>\n",
              "      <td>5</td>\n",
              "      <td>6</td>\n",
              "      <td>3</td>\n",
              "      <td>1</td>\n",
              "      <td>5</td>\n",
              "      <td>1</td>\n",
              "      <td>0</td>\n",
              "      <td>0</td>\n",
              "      <td>0</td>\n",
              "      <td>0</td>\n",
              "      <td>2</td>\n",
              "      <td>2</td>\n",
              "    </tr>\n",
              "    <tr>\n",
              "      <th>...</th>\n",
              "      <td>...</td>\n",
              "      <td>...</td>\n",
              "      <td>...</td>\n",
              "      <td>...</td>\n",
              "      <td>...</td>\n",
              "      <td>...</td>\n",
              "      <td>...</td>\n",
              "      <td>...</td>\n",
              "      <td>...</td>\n",
              "      <td>...</td>\n",
              "      <td>...</td>\n",
              "      <td>...</td>\n",
              "      <td>...</td>\n",
              "      <td>...</td>\n",
              "      <td>...</td>\n",
              "    </tr>\n",
              "    <tr>\n",
              "      <th>1880</th>\n",
              "      <td>0</td>\n",
              "      <td>0</td>\n",
              "      <td>2</td>\n",
              "      <td>6</td>\n",
              "      <td>6</td>\n",
              "      <td>4</td>\n",
              "      <td>3</td>\n",
              "      <td>4</td>\n",
              "      <td>3</td>\n",
              "      <td>0</td>\n",
              "      <td>0</td>\n",
              "      <td>0</td>\n",
              "      <td>5</td>\n",
              "      <td>0</td>\n",
              "      <td>0</td>\n",
              "    </tr>\n",
              "    <tr>\n",
              "      <th>1881</th>\n",
              "      <td>0</td>\n",
              "      <td>1</td>\n",
              "      <td>2</td>\n",
              "      <td>6</td>\n",
              "      <td>6</td>\n",
              "      <td>4</td>\n",
              "      <td>4</td>\n",
              "      <td>5</td>\n",
              "      <td>3</td>\n",
              "      <td>0</td>\n",
              "      <td>0</td>\n",
              "      <td>0</td>\n",
              "      <td>4</td>\n",
              "      <td>3</td>\n",
              "      <td>4</td>\n",
              "    </tr>\n",
              "    <tr>\n",
              "      <th>1882</th>\n",
              "      <td>1</td>\n",
              "      <td>0</td>\n",
              "      <td>8</td>\n",
              "      <td>6</td>\n",
              "      <td>6</td>\n",
              "      <td>3</td>\n",
              "      <td>1</td>\n",
              "      <td>1</td>\n",
              "      <td>1</td>\n",
              "      <td>3</td>\n",
              "      <td>0</td>\n",
              "      <td>0</td>\n",
              "      <td>2</td>\n",
              "      <td>2</td>\n",
              "      <td>1</td>\n",
              "    </tr>\n",
              "    <tr>\n",
              "      <th>1883</th>\n",
              "      <td>0</td>\n",
              "      <td>0</td>\n",
              "      <td>2</td>\n",
              "      <td>6</td>\n",
              "      <td>6</td>\n",
              "      <td>4</td>\n",
              "      <td>1</td>\n",
              "      <td>1</td>\n",
              "      <td>4</td>\n",
              "      <td>0</td>\n",
              "      <td>0</td>\n",
              "      <td>0</td>\n",
              "      <td>5</td>\n",
              "      <td>5</td>\n",
              "      <td>3</td>\n",
              "    </tr>\n",
              "    <tr>\n",
              "      <th>1884</th>\n",
              "      <td>0</td>\n",
              "      <td>1</td>\n",
              "      <td>2</td>\n",
              "      <td>2</td>\n",
              "      <td>6</td>\n",
              "      <td>3</td>\n",
              "      <td>1</td>\n",
              "      <td>5</td>\n",
              "      <td>1</td>\n",
              "      <td>5</td>\n",
              "      <td>0</td>\n",
              "      <td>0</td>\n",
              "      <td>5</td>\n",
              "      <td>5</td>\n",
              "      <td>1</td>\n",
              "    </tr>\n",
              "  </tbody>\n",
              "</table>\n",
              "<p>1885 rows × 15 columns</p>\n",
              "</div>"
            ],
            "text/plain": [
              "      Age  Gender  Education  Country  ...  Heroin  LSD  Mushroom  Nicotine\n",
              "0       2       0          7        5  ...       0    0         0         2\n",
              "1       1       1          1        5  ...       0    2         0         3\n",
              "2       2       1          7        5  ...       0    0         6         0\n",
              "3       0       0          6        5  ...       0    0         0         2\n",
              "4       2       0          1        5  ...       0    0         2         2\n",
              "...   ...     ...        ...      ...  ...     ...  ...       ...       ...\n",
              "1880    0       0          2        6  ...       0    5         0         0\n",
              "1881    0       1          2        6  ...       0    4         3         4\n",
              "1882    1       0          8        6  ...       0    2         2         1\n",
              "1883    0       0          2        6  ...       0    5         5         3\n",
              "1884    0       1          2        2  ...       0    5         5         1\n",
              "\n",
              "[1885 rows x 15 columns]"
            ]
          },
          "metadata": {
            "tags": []
          },
          "execution_count": 242
        }
      ]
    },
    {
      "cell_type": "markdown",
      "metadata": {
        "id": "FEzP9B6atH1a",
        "colab_type": "text"
      },
      "source": [
        "Let's find out whether Cannabis has any or none influence on other drugs like cocaine, heroin, crack, LSD.\n",
        "I will be performing Chi-Square Test of independence in order to comment on the interdependence of variables."
      ]
    },
    {
      "cell_type": "markdown",
      "metadata": {
        "id": "ONTHn_59zCG4",
        "colab_type": "text"
      },
      "source": [
        "Chi-Square Test of Independence"
      ]
    },
    {
      "cell_type": "code",
      "metadata": {
        "id": "lYHXok8mv18X",
        "colab_type": "code",
        "colab": {}
      },
      "source": [
        "def chi_square(column1,column2):\n",
        "  crosstab = pd.crosstab(df1[column1], df1[column2])\n",
        "  return chi2_contingency(crosstab)"
      ],
      "execution_count": 0,
      "outputs": []
    },
    {
      "cell_type": "code",
      "metadata": {
        "id": "b5aXv20Gu3nH",
        "colab_type": "code",
        "colab": {
          "base_uri": "https://localhost:8080/",
          "height": 35
        },
        "outputId": "b7e57534-7d5b-4491-a7fc-4b5e9cbcd7c2"
      },
      "source": [
        "#Checking whether Crack and Cocaine are independent or not\n",
        "independence_check = chi_square('Cocaine','Crack')\n",
        "# Printing p-value\n",
        "independence_check[1]\n",
        "# P-value less than 0.05, therefore independence cant be estabilished"
      ],
      "execution_count": 244,
      "outputs": [
        {
          "output_type": "execute_result",
          "data": {
            "text/plain": [
              "1.2835205996130714e-130"
            ]
          },
          "metadata": {
            "tags": []
          },
          "execution_count": 244
        }
      ]
    },
    {
      "cell_type": "code",
      "metadata": {
        "id": "n93uDECZyAhI",
        "colab_type": "code",
        "colab": {
          "base_uri": "https://localhost:8080/",
          "height": 87
        },
        "outputId": "dec2deb4-9358-42cc-9610-b385bcf1184f"
      },
      "source": [
        "#Checking whether Cannabis and Cocaine are independent or not\n",
        "for x in ['Crack', 'Cocaine','LSD','Heroin']:\n",
        "  independence_check = chi_square('Cannabis',x)\n",
        "# Printing p-value\n",
        "  print(independence_check[1])\n"
      ],
      "execution_count": 245,
      "outputs": [
        {
          "output_type": "stream",
          "text": [
            "4.752365580612751e-20\n",
            "2.0367011110626962e-110\n",
            "1.0889984558374699e-128\n",
            "1.8613209745154806e-26\n"
          ],
          "name": "stdout"
        }
      ]
    },
    {
      "cell_type": "markdown",
      "metadata": {
        "id": "Une9vyYfy2BR",
        "colab_type": "text"
      },
      "source": [
        "P-value for each case is not only less than 0.05, but is very negligible. So  we can conclude that there is definite interdependence of Cannabis with other hard drugs like Cocaine, LSD, Crack, Heroin"
      ]
    },
    {
      "cell_type": "markdown",
      "metadata": {
        "id": "kh5jFyTdeYoY",
        "colab_type": "text"
      },
      "source": [
        "Let's find out how each attribute in the data is related with other columns. I am finding the Pearson correlation as our data is categorical. "
      ]
    },
    {
      "cell_type": "code",
      "metadata": {
        "id": "dSGj8DRjqrJA",
        "colab_type": "code",
        "colab": {}
      },
      "source": [
        "correlation = df1.corr(method = 'pearson')"
      ],
      "execution_count": 0,
      "outputs": []
    },
    {
      "cell_type": "code",
      "metadata": {
        "id": "psUeS3FQqK63",
        "colab_type": "code",
        "outputId": "3cbac0eb-0349-487d-e1c6-6e4cb60874e6",
        "colab": {
          "base_uri": "https://localhost:8080/",
          "height": 529
        }
      },
      "source": [
        "# We can observe positive correlation of Cannabis with Cocaine, Heroin, Crack\n",
        "correlation"
      ],
      "execution_count": 247,
      "outputs": [
        {
          "output_type": "execute_result",
          "data": {
            "text/html": [
              "<div>\n",
              "<style scoped>\n",
              "    .dataframe tbody tr th:only-of-type {\n",
              "        vertical-align: middle;\n",
              "    }\n",
              "\n",
              "    .dataframe tbody tr th {\n",
              "        vertical-align: top;\n",
              "    }\n",
              "\n",
              "    .dataframe thead th {\n",
              "        text-align: right;\n",
              "    }\n",
              "</style>\n",
              "<table border=\"1\" class=\"dataframe\">\n",
              "  <thead>\n",
              "    <tr style=\"text-align: right;\">\n",
              "      <th></th>\n",
              "      <th>Age</th>\n",
              "      <th>Gender</th>\n",
              "      <th>Education</th>\n",
              "      <th>Country</th>\n",
              "      <th>Ethnicity</th>\n",
              "      <th>Alcohol</th>\n",
              "      <th>Caffeine</th>\n",
              "      <th>Cannabis</th>\n",
              "      <th>Chocolate</th>\n",
              "      <th>Cocaine</th>\n",
              "      <th>Crack</th>\n",
              "      <th>Heroin</th>\n",
              "      <th>LSD</th>\n",
              "      <th>Mushroom</th>\n",
              "      <th>Nicotine</th>\n",
              "    </tr>\n",
              "  </thead>\n",
              "  <tbody>\n",
              "    <tr>\n",
              "      <th>Age</th>\n",
              "      <td>1.000000</td>\n",
              "      <td>-0.096515</td>\n",
              "      <td>0.207401</td>\n",
              "      <td>-0.074370</td>\n",
              "      <td>0.043342</td>\n",
              "      <td>-0.032827</td>\n",
              "      <td>-0.154096</td>\n",
              "      <td>0.030142</td>\n",
              "      <td>-0.063504</td>\n",
              "      <td>-0.006409</td>\n",
              "      <td>0.032025</td>\n",
              "      <td>0.038632</td>\n",
              "      <td>0.015963</td>\n",
              "      <td>-0.062928</td>\n",
              "      <td>0.040538</td>\n",
              "    </tr>\n",
              "    <tr>\n",
              "      <th>Gender</th>\n",
              "      <td>-0.096515</td>\n",
              "      <td>1.000000</td>\n",
              "      <td>-0.172535</td>\n",
              "      <td>-0.001103</td>\n",
              "      <td>0.020920</td>\n",
              "      <td>-0.045602</td>\n",
              "      <td>0.000528</td>\n",
              "      <td>0.070129</td>\n",
              "      <td>0.062793</td>\n",
              "      <td>0.148119</td>\n",
              "      <td>0.100472</td>\n",
              "      <td>0.104150</td>\n",
              "      <td>0.204538</td>\n",
              "      <td>0.212630</td>\n",
              "      <td>0.033149</td>\n",
              "    </tr>\n",
              "    <tr>\n",
              "      <th>Education</th>\n",
              "      <td>0.207401</td>\n",
              "      <td>-0.172535</td>\n",
              "      <td>1.000000</td>\n",
              "      <td>-0.067166</td>\n",
              "      <td>-0.043311</td>\n",
              "      <td>-0.021149</td>\n",
              "      <td>-0.035793</td>\n",
              "      <td>-0.015161</td>\n",
              "      <td>-0.050476</td>\n",
              "      <td>-0.080895</td>\n",
              "      <td>-0.081113</td>\n",
              "      <td>-0.078089</td>\n",
              "      <td>-0.070929</td>\n",
              "      <td>-0.111116</td>\n",
              "      <td>-0.014196</td>\n",
              "    </tr>\n",
              "    <tr>\n",
              "      <th>Country</th>\n",
              "      <td>-0.074370</td>\n",
              "      <td>-0.001103</td>\n",
              "      <td>-0.067166</td>\n",
              "      <td>1.000000</td>\n",
              "      <td>-0.034670</td>\n",
              "      <td>-0.009439</td>\n",
              "      <td>-0.021163</td>\n",
              "      <td>-0.026944</td>\n",
              "      <td>-0.020732</td>\n",
              "      <td>0.021605</td>\n",
              "      <td>0.028425</td>\n",
              "      <td>0.059509</td>\n",
              "      <td>0.006011</td>\n",
              "      <td>0.025065</td>\n",
              "      <td>0.018834</td>\n",
              "    </tr>\n",
              "    <tr>\n",
              "      <th>Ethnicity</th>\n",
              "      <td>0.043342</td>\n",
              "      <td>0.020920</td>\n",
              "      <td>-0.043311</td>\n",
              "      <td>-0.034670</td>\n",
              "      <td>1.000000</td>\n",
              "      <td>0.027724</td>\n",
              "      <td>-0.047356</td>\n",
              "      <td>0.116236</td>\n",
              "      <td>0.003988</td>\n",
              "      <td>0.074376</td>\n",
              "      <td>0.003130</td>\n",
              "      <td>0.013115</td>\n",
              "      <td>0.061207</td>\n",
              "      <td>0.076404</td>\n",
              "      <td>0.093154</td>\n",
              "    </tr>\n",
              "    <tr>\n",
              "      <th>Alcohol</th>\n",
              "      <td>-0.032827</td>\n",
              "      <td>-0.045602</td>\n",
              "      <td>-0.021149</td>\n",
              "      <td>-0.009439</td>\n",
              "      <td>0.027724</td>\n",
              "      <td>1.000000</td>\n",
              "      <td>0.057903</td>\n",
              "      <td>0.005356</td>\n",
              "      <td>0.018571</td>\n",
              "      <td>-0.006336</td>\n",
              "      <td>0.048657</td>\n",
              "      <td>0.020128</td>\n",
              "      <td>0.014097</td>\n",
              "      <td>0.000088</td>\n",
              "      <td>-0.018724</td>\n",
              "    </tr>\n",
              "    <tr>\n",
              "      <th>Caffeine</th>\n",
              "      <td>-0.154096</td>\n",
              "      <td>0.000528</td>\n",
              "      <td>-0.035793</td>\n",
              "      <td>-0.021163</td>\n",
              "      <td>-0.047356</td>\n",
              "      <td>0.057903</td>\n",
              "      <td>1.000000</td>\n",
              "      <td>0.001016</td>\n",
              "      <td>0.084186</td>\n",
              "      <td>-0.024713</td>\n",
              "      <td>0.017614</td>\n",
              "      <td>0.002103</td>\n",
              "      <td>0.020256</td>\n",
              "      <td>0.004632</td>\n",
              "      <td>0.053806</td>\n",
              "    </tr>\n",
              "    <tr>\n",
              "      <th>Cannabis</th>\n",
              "      <td>0.030142</td>\n",
              "      <td>0.070129</td>\n",
              "      <td>-0.015161</td>\n",
              "      <td>-0.026944</td>\n",
              "      <td>0.116236</td>\n",
              "      <td>0.005356</td>\n",
              "      <td>0.001016</td>\n",
              "      <td>1.000000</td>\n",
              "      <td>0.036471</td>\n",
              "      <td>0.159414</td>\n",
              "      <td>0.061016</td>\n",
              "      <td>0.082966</td>\n",
              "      <td>0.149668</td>\n",
              "      <td>0.156048</td>\n",
              "      <td>0.217543</td>\n",
              "    </tr>\n",
              "    <tr>\n",
              "      <th>Chocolate</th>\n",
              "      <td>-0.063504</td>\n",
              "      <td>0.062793</td>\n",
              "      <td>-0.050476</td>\n",
              "      <td>-0.020732</td>\n",
              "      <td>0.003988</td>\n",
              "      <td>0.018571</td>\n",
              "      <td>0.084186</td>\n",
              "      <td>0.036471</td>\n",
              "      <td>1.000000</td>\n",
              "      <td>0.052114</td>\n",
              "      <td>0.038322</td>\n",
              "      <td>0.052918</td>\n",
              "      <td>0.067127</td>\n",
              "      <td>0.054845</td>\n",
              "      <td>-0.011634</td>\n",
              "    </tr>\n",
              "    <tr>\n",
              "      <th>Cocaine</th>\n",
              "      <td>-0.006409</td>\n",
              "      <td>0.148119</td>\n",
              "      <td>-0.080895</td>\n",
              "      <td>0.021605</td>\n",
              "      <td>0.074376</td>\n",
              "      <td>-0.006336</td>\n",
              "      <td>-0.024713</td>\n",
              "      <td>0.159414</td>\n",
              "      <td>0.052114</td>\n",
              "      <td>1.000000</td>\n",
              "      <td>0.355090</td>\n",
              "      <td>0.360094</td>\n",
              "      <td>0.451936</td>\n",
              "      <td>0.408172</td>\n",
              "      <td>0.054588</td>\n",
              "    </tr>\n",
              "    <tr>\n",
              "      <th>Crack</th>\n",
              "      <td>0.032025</td>\n",
              "      <td>0.100472</td>\n",
              "      <td>-0.081113</td>\n",
              "      <td>0.028425</td>\n",
              "      <td>0.003130</td>\n",
              "      <td>0.048657</td>\n",
              "      <td>0.017614</td>\n",
              "      <td>0.061016</td>\n",
              "      <td>0.038322</td>\n",
              "      <td>0.355090</td>\n",
              "      <td>1.000000</td>\n",
              "      <td>0.463496</td>\n",
              "      <td>0.308745</td>\n",
              "      <td>0.267715</td>\n",
              "      <td>0.013372</td>\n",
              "    </tr>\n",
              "    <tr>\n",
              "      <th>Heroin</th>\n",
              "      <td>0.038632</td>\n",
              "      <td>0.104150</td>\n",
              "      <td>-0.078089</td>\n",
              "      <td>0.059509</td>\n",
              "      <td>0.013115</td>\n",
              "      <td>0.020128</td>\n",
              "      <td>0.002103</td>\n",
              "      <td>0.082966</td>\n",
              "      <td>0.052918</td>\n",
              "      <td>0.360094</td>\n",
              "      <td>0.463496</td>\n",
              "      <td>1.000000</td>\n",
              "      <td>0.315191</td>\n",
              "      <td>0.251756</td>\n",
              "      <td>0.005236</td>\n",
              "    </tr>\n",
              "    <tr>\n",
              "      <th>LSD</th>\n",
              "      <td>0.015963</td>\n",
              "      <td>0.204538</td>\n",
              "      <td>-0.070929</td>\n",
              "      <td>0.006011</td>\n",
              "      <td>0.061207</td>\n",
              "      <td>0.014097</td>\n",
              "      <td>0.020256</td>\n",
              "      <td>0.149668</td>\n",
              "      <td>0.067127</td>\n",
              "      <td>0.451936</td>\n",
              "      <td>0.308745</td>\n",
              "      <td>0.315191</td>\n",
              "      <td>1.000000</td>\n",
              "      <td>0.583869</td>\n",
              "      <td>0.111806</td>\n",
              "    </tr>\n",
              "    <tr>\n",
              "      <th>Mushroom</th>\n",
              "      <td>-0.062928</td>\n",
              "      <td>0.212630</td>\n",
              "      <td>-0.111116</td>\n",
              "      <td>0.025065</td>\n",
              "      <td>0.076404</td>\n",
              "      <td>0.000088</td>\n",
              "      <td>0.004632</td>\n",
              "      <td>0.156048</td>\n",
              "      <td>0.054845</td>\n",
              "      <td>0.408172</td>\n",
              "      <td>0.267715</td>\n",
              "      <td>0.251756</td>\n",
              "      <td>0.583869</td>\n",
              "      <td>1.000000</td>\n",
              "      <td>0.118314</td>\n",
              "    </tr>\n",
              "    <tr>\n",
              "      <th>Nicotine</th>\n",
              "      <td>0.040538</td>\n",
              "      <td>0.033149</td>\n",
              "      <td>-0.014196</td>\n",
              "      <td>0.018834</td>\n",
              "      <td>0.093154</td>\n",
              "      <td>-0.018724</td>\n",
              "      <td>0.053806</td>\n",
              "      <td>0.217543</td>\n",
              "      <td>-0.011634</td>\n",
              "      <td>0.054588</td>\n",
              "      <td>0.013372</td>\n",
              "      <td>0.005236</td>\n",
              "      <td>0.111806</td>\n",
              "      <td>0.118314</td>\n",
              "      <td>1.000000</td>\n",
              "    </tr>\n",
              "  </tbody>\n",
              "</table>\n",
              "</div>"
            ],
            "text/plain": [
              "                Age    Gender  Education  ...       LSD  Mushroom  Nicotine\n",
              "Age        1.000000 -0.096515   0.207401  ...  0.015963 -0.062928  0.040538\n",
              "Gender    -0.096515  1.000000  -0.172535  ...  0.204538  0.212630  0.033149\n",
              "Education  0.207401 -0.172535   1.000000  ... -0.070929 -0.111116 -0.014196\n",
              "Country   -0.074370 -0.001103  -0.067166  ...  0.006011  0.025065  0.018834\n",
              "Ethnicity  0.043342  0.020920  -0.043311  ...  0.061207  0.076404  0.093154\n",
              "Alcohol   -0.032827 -0.045602  -0.021149  ...  0.014097  0.000088 -0.018724\n",
              "Caffeine  -0.154096  0.000528  -0.035793  ...  0.020256  0.004632  0.053806\n",
              "Cannabis   0.030142  0.070129  -0.015161  ...  0.149668  0.156048  0.217543\n",
              "Chocolate -0.063504  0.062793  -0.050476  ...  0.067127  0.054845 -0.011634\n",
              "Cocaine   -0.006409  0.148119  -0.080895  ...  0.451936  0.408172  0.054588\n",
              "Crack      0.032025  0.100472  -0.081113  ...  0.308745  0.267715  0.013372\n",
              "Heroin     0.038632  0.104150  -0.078089  ...  0.315191  0.251756  0.005236\n",
              "LSD        0.015963  0.204538  -0.070929  ...  1.000000  0.583869  0.111806\n",
              "Mushroom  -0.062928  0.212630  -0.111116  ...  0.583869  1.000000  0.118314\n",
              "Nicotine   0.040538  0.033149  -0.014196  ...  0.111806  0.118314  1.000000\n",
              "\n",
              "[15 rows x 15 columns]"
            ]
          },
          "metadata": {
            "tags": []
          },
          "execution_count": 247
        }
      ]
    },
    {
      "cell_type": "code",
      "metadata": {
        "id": "MrskiVDpWt0c",
        "colab_type": "code",
        "outputId": "3c8b9a56-9822-4f14-c0bc-63d16e5bed57",
        "colab": {
          "base_uri": "https://localhost:8080/",
          "height": 563
        }
      },
      "source": [
        "# Let's plot a heatmap to understand the above table\n",
        "ax = sns.heatmap(\n",
        "  correlation)\n",
        "ax.set_xticklabels(\n",
        "    ax.get_xticklabels(),\n",
        "    rotation=45,\n",
        "    horizontalalignment='right'\n",
        ")"
      ],
      "execution_count": 248,
      "outputs": [
        {
          "output_type": "execute_result",
          "data": {
            "text/plain": [
              "[Text(0.5, 0, 'Age'),\n",
              " Text(1.5, 0, 'Gender'),\n",
              " Text(2.5, 0, 'Education'),\n",
              " Text(3.5, 0, 'Country'),\n",
              " Text(4.5, 0, 'Ethnicity'),\n",
              " Text(5.5, 0, 'Alcohol'),\n",
              " Text(6.5, 0, 'Caffeine'),\n",
              " Text(7.5, 0, 'Cannabis'),\n",
              " Text(8.5, 0, 'Chocolate'),\n",
              " Text(9.5, 0, 'Cocaine'),\n",
              " Text(10.5, 0, 'Crack'),\n",
              " Text(11.5, 0, 'Heroin'),\n",
              " Text(12.5, 0, 'LSD'),\n",
              " Text(13.5, 0, 'Mushroom'),\n",
              " Text(14.5, 0, 'Nicotine')]"
            ]
          },
          "metadata": {
            "tags": []
          },
          "execution_count": 248
        },
        {
          "output_type": "display_data",
          "data": {
            "image/png": "[encoded data removed]",
            "text/plain": [
              "<Figure size 432x288 with 2 Axes>"
            ]
          },
          "metadata": {
            "tags": [],
            "needs_background": "light"
          }
        }
      ]
    },
    {
      "cell_type": "code",
      "metadata": {
        "id": "x9FK4QrA4Dtj",
        "colab_type": "code",
        "outputId": "cc967ebe-090c-4fd5-f8a9-e138f3f2573e",
        "colab": {
          "base_uri": "https://localhost:8080/",
          "height": 299
        }
      },
      "source": [
        "# Heatmap where the size of square is directly propotional to absolute value of correlation.\n",
        "# Code Source: https://towardsdatascience.com/better-heatmaps-and-correlation-matrix-plots-in-python-41445d0f2bec\n",
        "def heatmap(x, y, size):\n",
        "    fig, ax = plt.subplots()\n",
        "    \n",
        "    # Mapping from column names to integer coordinates\n",
        "    x_labels = [v for v in sorted(x.unique())]\n",
        "    y_labels = [v for v in sorted(y.unique())]\n",
        "    x_to_num = {p[1]:p[0] for p in enumerate(x_labels)} \n",
        "    y_to_num = {p[1]:p[0] for p in enumerate(y_labels)} \n",
        "    \n",
        "    size_scale = 500\n",
        "    ax.scatter(\n",
        "        x=x.map(x_to_num), # Use mapping for x\n",
        "        y=y.map(y_to_num), # Use mapping for y\n",
        "        s=size * size_scale, # Vector of square sizes, proportional to size parameter\n",
        "        marker='s' # Use square as scatterplot marker\n",
        "    )\n",
        "    \n",
        "    # Show column labels on the axes\n",
        "    ax.set_xticks([x_to_num[v] for v in x_labels])\n",
        "    ax.set_xticklabels(x_labels, rotation=45, horizontalalignment='right')\n",
        "    ax.set_yticks([y_to_num[v] for v in y_labels])\n",
        "    ax.set_yticklabels(y_labels)\n",
        "    \n",
        "\n",
        "\n",
        "corr = pd.melt(correlation.reset_index(), id_vars='index') # Unpivot the dataframe, so we can get pair of arrays for x and y\n",
        "corr.columns = ['x', 'y', 'value']\n",
        "heatmap(\n",
        "    x=corr['x'],\n",
        "    y=corr['y'],\n",
        "    size=corr['value'].abs())\n"
      ],
      "execution_count": 249,
      "outputs": [
        {
          "output_type": "display_data",
          "data": {
            "image/png": "[encoded data removed]",
            "text/plain": [
              "<Figure size 432x288 with 1 Axes>"
            ]
          },
          "metadata": {
            "tags": [],
            "needs_background": "light"
          }
        }
      ]
    },
    {
      "cell_type": "markdown",
      "metadata": {
        "id": "EJq02e0IpFZy",
        "colab_type": "text"
      },
      "source": [
        "Thes size of the boxes represents how much two columns are correlated with each other.We can see that the largest boxes are on a diagnol, which makes sense as the correlation of a attribute with itself would be the highest(1). We can see from the heatmap,that illegal drugs have positive correlated to other illegal drugs. Cannabis is positively correlated with Cocaine, Mushroom and LSD."
      ]
    },
    {
      "cell_type": "markdown",
      "metadata": {
        "id": "TXeV4uMZzoIs",
        "colab_type": "text"
      },
      "source": [
        "After performing Chi-Square Independence Test and finding Pearson Correlation, we can coclude that Cannabis has a positive effect on consumption of other drugs like crack, heroin,LSD."
      ]
    },
    {
      "cell_type": "markdown",
      "metadata": {
        "id": "K6Y-QdDGgCB1",
        "colab_type": "text"
      },
      "source": [
        "## Hypothesis 2\n",
        "In 3 countries who top alcohol consumption, majority of the heavy drinkers are whites."
      ]
    },
    {
      "cell_type": "code",
      "metadata": {
        "id": "tH7ncDR-0KeX",
        "colab_type": "code",
        "colab": {
          "base_uri": "https://localhost:8080/",
          "height": 141
        },
        "outputId": "69abae0a-5353-4faf-f91d-a4c7296ab51f"
      },
      "source": [
        "intermediate_df.sort_values(by='Alcohol_consumption_per_person_yearly(ltr)',ascending=False)\n",
        "intermediate_df.head(3)"
      ],
      "execution_count": 250,
      "outputs": [
        {
          "output_type": "execute_result",
          "data": {
            "text/html": [
              "<div>\n",
              "<style scoped>\n",
              "    .dataframe tbody tr th:only-of-type {\n",
              "        vertical-align: middle;\n",
              "    }\n",
              "\n",
              "    .dataframe tbody tr th {\n",
              "        vertical-align: top;\n",
              "    }\n",
              "\n",
              "    .dataframe thead th {\n",
              "        text-align: right;\n",
              "    }\n",
              "</style>\n",
              "<table border=\"1\" class=\"dataframe\">\n",
              "  <thead>\n",
              "    <tr style=\"text-align: right;\">\n",
              "      <th></th>\n",
              "      <th>Country</th>\n",
              "      <th>Alcohol_consumption_per_person_yearly(ltr)</th>\n",
              "    </tr>\n",
              "  </thead>\n",
              "  <tbody>\n",
              "    <tr>\n",
              "      <th>2</th>\n",
              "      <td>Ireland</td>\n",
              "      <td>13.0</td>\n",
              "    </tr>\n",
              "    <tr>\n",
              "      <th>4</th>\n",
              "      <td>United Kingdom</td>\n",
              "      <td>11.4</td>\n",
              "    </tr>\n",
              "    <tr>\n",
              "      <th>3</th>\n",
              "      <td>New Zealand</td>\n",
              "      <td>10.7</td>\n",
              "    </tr>\n",
              "  </tbody>\n",
              "</table>\n",
              "</div>"
            ],
            "text/plain": [
              "          Country  Alcohol_consumption_per_person_yearly(ltr)\n",
              "2         Ireland                                        13.0\n",
              "4  United Kingdom                                        11.4\n",
              "3     New Zealand                                        10.7"
            ]
          },
          "metadata": {
            "tags": []
          },
          "execution_count": 250
        }
      ]
    },
    {
      "cell_type": "markdown",
      "metadata": {
        "id": "Ga_ovxb4071P",
        "colab_type": "text"
      },
      "source": [
        "Now we know that Ireland, United Kingdom and New Zealand are top 3 alcohol consuming countries per capita. Lets find the regular consumer of alcohol in these countries"
      ]
    },
    {
      "cell_type": "code",
      "metadata": {
        "id": "S1CT5Kko1XT-",
        "colab_type": "code",
        "colab": {}
      },
      "source": [
        "top_alcohol_consumption = df[df['Country'].isin(['Ireland','United Kingdom','New Zealand'])]"
      ],
      "execution_count": 0,
      "outputs": []
    },
    {
      "cell_type": "code",
      "metadata": {
        "id": "WkhGQx-53PV3",
        "colab_type": "code",
        "colab": {}
      },
      "source": [
        "# Counting people who have consumed alcohol in the past week\n",
        "top_alcohol_consumption1= top_alcohol_consumption[top_alcohol_consumption['Alcohol'].isin(['Used in Last Week', 'Used in Last Day'])]"
      ],
      "execution_count": 0,
      "outputs": []
    },
    {
      "cell_type": "code",
      "metadata": {
        "id": "-k71r-_q2rtG",
        "colab_type": "code",
        "colab": {
          "base_uri": "https://localhost:8080/",
          "height": 466
        },
        "outputId": "f0b20339-ef15-4c55-854f-0904bbd12631"
      },
      "source": [
        "value_percentage_chart(top_alcohol_consumption1,'Ethnicity')"
      ],
      "execution_count": 253,
      "outputs": [
        {
          "output_type": "display_data",
          "data": {
            "image/png": "[encoded data removed]",
            "text/plain": [
              "<Figure size 576x576 with 1 Axes>"
            ]
          },
          "metadata": {
            "tags": []
          }
        }
      ]
    },
    {
      "cell_type": "markdown",
      "metadata": {
        "id": "aJOxhAja5Rcx",
        "colab_type": "text"
      },
      "source": [
        "We can see that more than 94% of the regular consumer of alcohol are whites.\n",
        "So Hypothesis 2 is true."
      ]
    },
    {
      "cell_type": "markdown",
      "metadata": {
        "id": "lWVYZueZs2zV",
        "colab_type": "text"
      },
      "source": [
        "We have categorical values instead of continuous values for age as well as consumption of drugs. So I changed the categorical values into ordinal values to perform analysis."
      ]
    },
    {
      "cell_type": "code",
      "metadata": {
        "id": "zW4EETERUeuo",
        "colab_type": "code",
        "colab": {}
      },
      "source": [
        "drug_dict_new = {'Never Used':1,'Used over a Decade Ago':2,'Used in Last Decade':3, 'Used in Last Year':4,'Used in Last Month':5,'Used in Last Week':6,'Used in Last Day':7}\n",
        "age_dict_new={'18-24':1,'25-34':2,'35-44':3,'45-54':4,'55-64':5,'65+':6}"
      ],
      "execution_count": 0,
      "outputs": []
    },
    {
      "cell_type": "code",
      "metadata": {
        "id": "Fj4jjx4SYQkK",
        "colab_type": "code",
        "colab": {}
      },
      "source": [
        "df['Age'].replace(age_dict_new,inplace = True)"
      ],
      "execution_count": 0,
      "outputs": []
    },
    {
      "cell_type": "code",
      "metadata": {
        "id": "FCDZURats2ON",
        "colab_type": "code",
        "colab": {}
      },
      "source": [
        "# for x,y in zip(['Age','Al'])\n",
        "replace_val('Age',age_dict_new)"
      ],
      "execution_count": 0,
      "outputs": []
    },
    {
      "cell_type": "code",
      "metadata": {
        "id": "BP3fsJfVtt5F",
        "colab_type": "code",
        "colab": {}
      },
      "source": [
        "replace_val('Alcohol',drug_dict_new)"
      ],
      "execution_count": 0,
      "outputs": []
    },
    {
      "cell_type": "code",
      "metadata": {
        "id": "WWHNp17GYhn1",
        "colab_type": "code",
        "outputId": "cab917ad-2448-433d-8a3e-764fdac28400",
        "colab": {
          "base_uri": "https://localhost:8080/",
          "height": 173
        }
      },
      "source": [
        "df.groupby(['Country'])['Alcohol'].mean()"
      ],
      "execution_count": 106,
      "outputs": [
        {
          "output_type": "execute_result",
          "data": {
            "text/plain": [
              "Country\n",
              "Australia              5.648148\n",
              "Canada                 5.160920\n",
              "New Zealand            5.600000\n",
              "Other                  5.652542\n",
              "Republic of Ireland    5.150000\n",
              "UK                     5.744253\n",
              "USA                    5.517056\n",
              "Name: Alcohol, dtype: float64"
            ]
          },
          "metadata": {
            "tags": []
          },
          "execution_count": 106
        }
      ]
    },
    {
      "cell_type": "code",
      "metadata": {
        "id": "oh6eras3oq3u",
        "colab_type": "code",
        "colab": {}
      },
      "source": [
        "df1 = df[df['Alcohol'] != 'Never Used']"
      ],
      "execution_count": 0,
      "outputs": []
    },
    {
      "cell_type": "code",
      "metadata": {
        "id": "OtoRzTiJo299",
        "colab_type": "code",
        "outputId": "6c0ee2e5-0dd2-4e2d-8bc6-3fb8a0636eae",
        "colab": {
          "base_uri": "https://localhost:8080/",
          "height": 175
        }
      },
      "source": [
        "df1.groupby(['Country'])['Age'].mean()"
      ],
      "execution_count": 0,
      "outputs": [
        {
          "output_type": "execute_result",
          "data": {
            "text/plain": [
              "Country\n",
              "Australia              2.074074\n",
              "Canada                 2.511905\n",
              "New Zealand            1.600000\n",
              "Other                  1.921739\n",
              "Republic of Ireland    2.210526\n",
              "UK                     2.719727\n",
              "USA                    1.758182\n",
              "Name: Age, dtype: float64"
            ]
          },
          "metadata": {
            "tags": []
          },
          "execution_count": 187
        }
      ]
    },
    {
      "cell_type": "markdown",
      "metadata": {
        "id": "wdMxMJB8gpDc",
        "colab_type": "text"
      },
      "source": [
        "## Hypothesis 3:\n",
        "People who consume nicotine, also consume alcohol regularly."
      ]
    },
    {
      "cell_type": "code",
      "metadata": {
        "id": "q-53m8VxVz7n",
        "colab_type": "code",
        "colab": {}
      },
      "source": [
        "top_nicotine_consumption = df[df['Nicotine'].isin(['Used in Last Week', 'Used in Last Day'])]"
      ],
      "execution_count": 0,
      "outputs": []
    },
    {
      "cell_type": "code",
      "metadata": {
        "id": "vp1I_EY-XCGV",
        "colab_type": "code",
        "outputId": "47ed0f63-8847-4a59-d014-8077d65b6a04",
        "colab": {
          "base_uri": "https://localhost:8080/",
          "height": 466
        }
      },
      "source": [
        "value_percentage_chart(top_nicotine_consumption, 'Alcohol')"
      ],
      "execution_count": 255,
      "outputs": [
        {
          "output_type": "display_data",
          "data": {
            "image/png": "[encoded data removed]",
            "text/plain": [
              "<Figure size 576x576 with 1 Axes>"
            ]
          },
          "metadata": {
            "tags": []
          }
        }
      ]
    },
    {
      "cell_type": "markdown",
      "metadata": {
        "id": "kzptkitT7mH7",
        "colab_type": "text"
      },
      "source": [
        "We can see that, majority (almost 70%) of people who consume nicotine regulary, also consume alcohol regularly."
      ]
    },
    {
      "cell_type": "markdown",
      "metadata": {
        "id": "giuxSVTk8GrN",
        "colab_type": "text"
      },
      "source": [
        "Hence Hypothesis 3 holds true."
      ]
    },
    {
      "cell_type": "code",
      "metadata": {
        "id": "hcUGICU78K9D",
        "colab_type": "code",
        "colab": {}
      },
      "source": [
        ""
      ],
      "execution_count": 0,
      "outputs": []
    }
  ]
}